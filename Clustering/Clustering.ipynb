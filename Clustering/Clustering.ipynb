{
  "nbformat": 4,
  "nbformat_minor": 0,
  "metadata": {
    "colab": {
      "name": "Clustering.ipynb",
      "provenance": [],
      "authorship_tag": "ABX9TyPvKSoPitali8DN5skYMFOL",
      "include_colab_link": true
    },
    "kernelspec": {
      "name": "python3",
      "display_name": "Python 3"
    }
  },
  "cells": [
    {
      "cell_type": "markdown",
      "metadata": {
        "id": "view-in-github",
        "colab_type": "text"
      },
      "source": [
        "<a href=\"https://colab.research.google.com/github/iqbalamo93/Clustering/blob/master/Clustering.ipynb\" target=\"_parent\"><img src=\"https://colab.research.google.com/assets/colab-badge.svg\" alt=\"Open In Colab\"/></a>"
      ]
    },
    {
      "cell_type": "code",
      "metadata": {
        "id": "1ngP75Psdkes",
        "colab_type": "code",
        "colab": {}
      },
      "source": [
        "url='https://dsserver-prod-resources-1.s3.amazonaws.com/26/114_congress.csv'"
      ],
      "execution_count": 0,
      "outputs": []
    },
    {
      "cell_type": "code",
      "metadata": {
        "id": "sYEdb9wYdsI2",
        "colab_type": "code",
        "colab": {
          "base_uri": "https://localhost:8080/",
          "height": 72
        },
        "outputId": "cdc7d1c1-ba84-4bae-9ab0-4252eed7938f"
      },
      "source": [
        "import pandas as pd\n",
        "import numpy as np\n",
        "import matplotlib.pyplot as plt\n",
        "import seaborn as sns"
      ],
      "execution_count": 2,
      "outputs": [
        {
          "output_type": "stream",
          "text": [
            "/usr/local/lib/python3.6/dist-packages/statsmodels/tools/_testing.py:19: FutureWarning: pandas.util.testing is deprecated. Use the functions in the public API at pandas.testing instead.\n",
            "  import pandas.util.testing as tm\n"
          ],
          "name": "stderr"
        }
      ]
    },
    {
      "cell_type": "code",
      "metadata": {
        "id": "UrmfxeHOeILU",
        "colab_type": "code",
        "colab": {}
      },
      "source": [
        "votes = pd.read_csv(url)"
      ],
      "execution_count": 0,
      "outputs": []
    },
    {
      "cell_type": "code",
      "metadata": {
        "id": "HjyXCwaKd11Y",
        "colab_type": "code",
        "colab": {
          "base_uri": "https://localhost:8080/",
          "height": 364
        },
        "outputId": "4a6a1bcd-b8b7-47a1-d6cf-8f8ebc013ac0"
      },
      "source": [
        "print(votes[\"party\"].value_counts())\n",
        "print(votes.mean())"
      ],
      "execution_count": 4,
      "outputs": [
        {
          "output_type": "stream",
          "text": [
            "R    54\n",
            "D    44\n",
            "I     2\n",
            "Name: party, dtype: int64\n",
            "00001    0.325\n",
            "00004    0.575\n",
            "00005    0.535\n",
            "00006    0.945\n",
            "00007    0.545\n",
            "00008    0.415\n",
            "00009    0.545\n",
            "00010    0.985\n",
            "00020    0.525\n",
            "00026    0.545\n",
            "00032    0.410\n",
            "00038    0.480\n",
            "00039    0.510\n",
            "00044    0.460\n",
            "00047    0.370\n",
            "dtype: float64\n"
          ],
          "name": "stdout"
        }
      ]
    },
    {
      "cell_type": "code",
      "metadata": {
        "id": "VBI-0-GReGMw",
        "colab_type": "code",
        "colab": {
          "base_uri": "https://localhost:8080/",
          "height": 202
        },
        "outputId": "7564d7f6-2ad3-484b-d938-2ffda236b462"
      },
      "source": [
        "votes.head()"
      ],
      "execution_count": 5,
      "outputs": [
        {
          "output_type": "execute_result",
          "data": {
            "text/html": [
              "<div>\n",
              "<style scoped>\n",
              "    .dataframe tbody tr th:only-of-type {\n",
              "        vertical-align: middle;\n",
              "    }\n",
              "\n",
              "    .dataframe tbody tr th {\n",
              "        vertical-align: top;\n",
              "    }\n",
              "\n",
              "    .dataframe thead th {\n",
              "        text-align: right;\n",
              "    }\n",
              "</style>\n",
              "<table border=\"1\" class=\"dataframe\">\n",
              "  <thead>\n",
              "    <tr style=\"text-align: right;\">\n",
              "      <th></th>\n",
              "      <th>name</th>\n",
              "      <th>party</th>\n",
              "      <th>state</th>\n",
              "      <th>00001</th>\n",
              "      <th>00004</th>\n",
              "      <th>00005</th>\n",
              "      <th>00006</th>\n",
              "      <th>00007</th>\n",
              "      <th>00008</th>\n",
              "      <th>00009</th>\n",
              "      <th>00010</th>\n",
              "      <th>00020</th>\n",
              "      <th>00026</th>\n",
              "      <th>00032</th>\n",
              "      <th>00038</th>\n",
              "      <th>00039</th>\n",
              "      <th>00044</th>\n",
              "      <th>00047</th>\n",
              "    </tr>\n",
              "  </thead>\n",
              "  <tbody>\n",
              "    <tr>\n",
              "      <th>0</th>\n",
              "      <td>Alexander</td>\n",
              "      <td>R</td>\n",
              "      <td>TN</td>\n",
              "      <td>0.0</td>\n",
              "      <td>1.0</td>\n",
              "      <td>1.0</td>\n",
              "      <td>1.0</td>\n",
              "      <td>1.0</td>\n",
              "      <td>0.0</td>\n",
              "      <td>0.0</td>\n",
              "      <td>1.0</td>\n",
              "      <td>1.0</td>\n",
              "      <td>1.0</td>\n",
              "      <td>0.0</td>\n",
              "      <td>0.0</td>\n",
              "      <td>0.0</td>\n",
              "      <td>0.0</td>\n",
              "      <td>0.0</td>\n",
              "    </tr>\n",
              "    <tr>\n",
              "      <th>1</th>\n",
              "      <td>Ayotte</td>\n",
              "      <td>R</td>\n",
              "      <td>NH</td>\n",
              "      <td>0.0</td>\n",
              "      <td>1.0</td>\n",
              "      <td>1.0</td>\n",
              "      <td>1.0</td>\n",
              "      <td>1.0</td>\n",
              "      <td>0.0</td>\n",
              "      <td>0.0</td>\n",
              "      <td>1.0</td>\n",
              "      <td>0.0</td>\n",
              "      <td>1.0</td>\n",
              "      <td>0.0</td>\n",
              "      <td>1.0</td>\n",
              "      <td>0.0</td>\n",
              "      <td>1.0</td>\n",
              "      <td>0.0</td>\n",
              "    </tr>\n",
              "    <tr>\n",
              "      <th>2</th>\n",
              "      <td>Baldwin</td>\n",
              "      <td>D</td>\n",
              "      <td>WI</td>\n",
              "      <td>1.0</td>\n",
              "      <td>0.0</td>\n",
              "      <td>0.0</td>\n",
              "      <td>1.0</td>\n",
              "      <td>0.0</td>\n",
              "      <td>1.0</td>\n",
              "      <td>0.0</td>\n",
              "      <td>1.0</td>\n",
              "      <td>0.0</td>\n",
              "      <td>0.0</td>\n",
              "      <td>1.0</td>\n",
              "      <td>1.0</td>\n",
              "      <td>0.0</td>\n",
              "      <td>1.0</td>\n",
              "      <td>1.0</td>\n",
              "    </tr>\n",
              "    <tr>\n",
              "      <th>3</th>\n",
              "      <td>Barrasso</td>\n",
              "      <td>R</td>\n",
              "      <td>WY</td>\n",
              "      <td>0.0</td>\n",
              "      <td>1.0</td>\n",
              "      <td>1.0</td>\n",
              "      <td>1.0</td>\n",
              "      <td>1.0</td>\n",
              "      <td>0.0</td>\n",
              "      <td>1.0</td>\n",
              "      <td>1.0</td>\n",
              "      <td>1.0</td>\n",
              "      <td>1.0</td>\n",
              "      <td>0.0</td>\n",
              "      <td>0.0</td>\n",
              "      <td>1.0</td>\n",
              "      <td>0.0</td>\n",
              "      <td>0.0</td>\n",
              "    </tr>\n",
              "    <tr>\n",
              "      <th>4</th>\n",
              "      <td>Bennet</td>\n",
              "      <td>D</td>\n",
              "      <td>CO</td>\n",
              "      <td>0.0</td>\n",
              "      <td>0.0</td>\n",
              "      <td>0.0</td>\n",
              "      <td>1.0</td>\n",
              "      <td>0.0</td>\n",
              "      <td>1.0</td>\n",
              "      <td>0.0</td>\n",
              "      <td>1.0</td>\n",
              "      <td>0.0</td>\n",
              "      <td>0.0</td>\n",
              "      <td>0.0</td>\n",
              "      <td>1.0</td>\n",
              "      <td>0.0</td>\n",
              "      <td>1.0</td>\n",
              "      <td>0.0</td>\n",
              "    </tr>\n",
              "  </tbody>\n",
              "</table>\n",
              "</div>"
            ],
            "text/plain": [
              "        name party state  00001  00004  ...  00032  00038  00039  00044  00047\n",
              "0  Alexander     R    TN    0.0    1.0  ...    0.0    0.0    0.0    0.0    0.0\n",
              "1     Ayotte     R    NH    0.0    1.0  ...    0.0    1.0    0.0    1.0    0.0\n",
              "2    Baldwin     D    WI    1.0    0.0  ...    1.0    1.0    0.0    1.0    1.0\n",
              "3   Barrasso     R    WY    0.0    1.0  ...    0.0    0.0    1.0    0.0    0.0\n",
              "4     Bennet     D    CO    0.0    0.0  ...    0.0    1.0    0.0    1.0    0.0\n",
              "\n",
              "[5 rows x 18 columns]"
            ]
          },
          "metadata": {
            "tags": []
          },
          "execution_count": 5
        }
      ]
    },
    {
      "cell_type": "code",
      "metadata": {
        "id": "3dFjCDGzlKWy",
        "colab_type": "code",
        "colab": {
          "base_uri": "https://localhost:8080/",
          "height": 35
        },
        "outputId": "81a90797-8998-47ea-ce99-c48d353640ab"
      },
      "source": [
        "from sklearn.metrics.pairwise import euclidean_distances\n",
        "\n",
        "print(euclidean_distances(votes.iloc[0,3:].values.reshape(1, -1), votes.iloc[1,3:].values.reshape(1, -1)))\n",
        "distance = euclidean_distances(votes.iloc[0,3:].values.reshape(1, -1), votes.iloc[2,3:].values.reshape(1, -1))"
      ],
      "execution_count": 6,
      "outputs": [
        {
          "output_type": "stream",
          "text": [
            "[[1.73205081]]\n"
          ],
          "name": "stdout"
        }
      ]
    },
    {
      "cell_type": "code",
      "metadata": {
        "id": "xpPfKMnAlfIM",
        "colab_type": "code",
        "colab": {
          "base_uri": "https://localhost:8080/",
          "height": 35
        },
        "outputId": "ca46731a-c89c-4d18-b412-a5664d65b9d0"
      },
      "source": [
        "distance"
      ],
      "execution_count": 7,
      "outputs": [
        {
          "output_type": "execute_result",
          "data": {
            "text/plain": [
              "array([[3.31662479]])"
            ]
          },
          "metadata": {
            "tags": []
          },
          "execution_count": 7
        }
      ]
    },
    {
      "cell_type": "code",
      "metadata": {
        "id": "Fpn76srClgne",
        "colab_type": "code",
        "colab": {}
      },
      "source": [
        "import pandas as pd\n",
        "from sklearn.cluster import KMeans\n",
        "kmeans_model = KMeans(n_clusters=2, random_state=1)\n",
        "senator_distances = kmeans_model.fit_transform(votes.iloc[:, 3:])"
      ],
      "execution_count": 0,
      "outputs": []
    },
    {
      "cell_type": "code",
      "metadata": {
        "id": "AOPcWujzrAQE",
        "colab_type": "code",
        "colab": {
          "base_uri": "https://localhost:8080/",
          "height": 104
        },
        "outputId": "5480618f-410f-43df-844c-23ae2af73e23"
      },
      "source": [
        "senator_distances[:5]# Two clomns as we specified two clusters, 1st is distance from other cluster,other from cluster"
      ],
      "execution_count": 9,
      "outputs": [
        {
          "output_type": "execute_result",
          "data": {
            "text/plain": [
              "array([[1.3134775 , 3.12141628],\n",
              "       [2.05339992, 2.6146248 ],\n",
              "       [3.41651746, 0.33960656],\n",
              "       [0.24198446, 3.42004795],\n",
              "       [2.96866004, 1.43833966]])"
            ]
          },
          "metadata": {
            "tags": []
          },
          "execution_count": 9
        }
      ]
    },
    {
      "cell_type": "code",
      "metadata": {
        "id": "HogxULAsrCEC",
        "colab_type": "code",
        "colab": {}
      },
      "source": [
        "labels = kmeans_model.labels_"
      ],
      "execution_count": 0,
      "outputs": []
    },
    {
      "cell_type": "code",
      "metadata": {
        "id": "LZ-XjxS0sjoe",
        "colab_type": "code",
        "colab": {
          "base_uri": "https://localhost:8080/",
          "height": 104
        },
        "outputId": "5fce66f0-ec13-4401-d6eb-9c75a40457e4"
      },
      "source": [
        "labels"
      ],
      "execution_count": 11,
      "outputs": [
        {
          "output_type": "execute_result",
          "data": {
            "text/plain": [
              "array([0, 0, 1, 0, 1, 1, 0, 1, 0, 1, 1, 0, 1, 0, 1, 1, 1, 0, 0, 0, 0, 1,\n",
              "       0, 0, 0, 0, 0, 0, 1, 1, 0, 0, 1, 0, 0, 1, 0, 1, 0, 0, 0, 1, 0, 0,\n",
              "       1, 0, 0, 0, 0, 1, 1, 0, 1, 0, 1, 0, 0, 1, 0, 1, 0, 1, 1, 1, 0, 0,\n",
              "       1, 1, 1, 0, 0, 1, 0, 1, 0, 0, 0, 0, 0, 1, 0, 1, 1, 0, 0, 1, 0, 1,\n",
              "       0, 1, 0, 0, 0, 1, 0, 1, 1, 1, 0, 1], dtype=int32)"
            ]
          },
          "metadata": {
            "tags": []
          },
          "execution_count": 11
        }
      ]
    },
    {
      "cell_type": "code",
      "metadata": {
        "id": "zM9JYeFYsk2U",
        "colab_type": "code",
        "colab": {
          "base_uri": "https://localhost:8080/",
          "height": 141
        },
        "outputId": "d6c71d1c-76b4-40f5-eab6-471839190aa9"
      },
      "source": [
        "pd.crosstab(labels, votes[\"party\"])"
      ],
      "execution_count": 12,
      "outputs": [
        {
          "output_type": "execute_result",
          "data": {
            "text/html": [
              "<div>\n",
              "<style scoped>\n",
              "    .dataframe tbody tr th:only-of-type {\n",
              "        vertical-align: middle;\n",
              "    }\n",
              "\n",
              "    .dataframe tbody tr th {\n",
              "        vertical-align: top;\n",
              "    }\n",
              "\n",
              "    .dataframe thead th {\n",
              "        text-align: right;\n",
              "    }\n",
              "</style>\n",
              "<table border=\"1\" class=\"dataframe\">\n",
              "  <thead>\n",
              "    <tr style=\"text-align: right;\">\n",
              "      <th>party</th>\n",
              "      <th>D</th>\n",
              "      <th>I</th>\n",
              "      <th>R</th>\n",
              "    </tr>\n",
              "    <tr>\n",
              "      <th>row_0</th>\n",
              "      <th></th>\n",
              "      <th></th>\n",
              "      <th></th>\n",
              "    </tr>\n",
              "  </thead>\n",
              "  <tbody>\n",
              "    <tr>\n",
              "      <th>0</th>\n",
              "      <td>3</td>\n",
              "      <td>0</td>\n",
              "      <td>54</td>\n",
              "    </tr>\n",
              "    <tr>\n",
              "      <th>1</th>\n",
              "      <td>41</td>\n",
              "      <td>2</td>\n",
              "      <td>0</td>\n",
              "    </tr>\n",
              "  </tbody>\n",
              "</table>\n",
              "</div>"
            ],
            "text/plain": [
              "party   D  I   R\n",
              "row_0           \n",
              "0       3  0  54\n",
              "1      41  2   0"
            ]
          },
          "metadata": {
            "tags": []
          },
          "execution_count": 12
        }
      ]
    },
    {
      "cell_type": "code",
      "metadata": {
        "id": "9V2r_eZ4s5C9",
        "colab_type": "code",
        "colab": {
          "base_uri": "https://localhost:8080/",
          "height": 35
        },
        "outputId": "22532f09-ee0c-4918-becc-d756b2e0cc6a"
      },
      "source": [
        "votes[\"party\"].shape,labels.shape"
      ],
      "execution_count": 13,
      "outputs": [
        {
          "output_type": "execute_result",
          "data": {
            "text/plain": [
              "((100,), (100,))"
            ]
          },
          "metadata": {
            "tags": []
          },
          "execution_count": 13
        }
      ]
    },
    {
      "cell_type": "code",
      "metadata": {
        "id": "owYQszbYs77c",
        "colab_type": "code",
        "colab": {}
      },
      "source": [
        "democratic_outliers = votes[(labels == 0) & (votes[\"party\"] == \"D\")]"
      ],
      "execution_count": 0,
      "outputs": []
    },
    {
      "cell_type": "code",
      "metadata": {
        "id": "d3sAOvqfuD-I",
        "colab_type": "code",
        "colab": {
          "base_uri": "https://localhost:8080/",
          "height": 141
        },
        "outputId": "ff852c6b-c4d2-4f8d-9f6a-82e3e9cb3303"
      },
      "source": [
        "democratic_outliers"
      ],
      "execution_count": 15,
      "outputs": [
        {
          "output_type": "execute_result",
          "data": {
            "text/html": [
              "<div>\n",
              "<style scoped>\n",
              "    .dataframe tbody tr th:only-of-type {\n",
              "        vertical-align: middle;\n",
              "    }\n",
              "\n",
              "    .dataframe tbody tr th {\n",
              "        vertical-align: top;\n",
              "    }\n",
              "\n",
              "    .dataframe thead th {\n",
              "        text-align: right;\n",
              "    }\n",
              "</style>\n",
              "<table border=\"1\" class=\"dataframe\">\n",
              "  <thead>\n",
              "    <tr style=\"text-align: right;\">\n",
              "      <th></th>\n",
              "      <th>name</th>\n",
              "      <th>party</th>\n",
              "      <th>state</th>\n",
              "      <th>00001</th>\n",
              "      <th>00004</th>\n",
              "      <th>00005</th>\n",
              "      <th>00006</th>\n",
              "      <th>00007</th>\n",
              "      <th>00008</th>\n",
              "      <th>00009</th>\n",
              "      <th>00010</th>\n",
              "      <th>00020</th>\n",
              "      <th>00026</th>\n",
              "      <th>00032</th>\n",
              "      <th>00038</th>\n",
              "      <th>00039</th>\n",
              "      <th>00044</th>\n",
              "      <th>00047</th>\n",
              "    </tr>\n",
              "  </thead>\n",
              "  <tbody>\n",
              "    <tr>\n",
              "      <th>42</th>\n",
              "      <td>Heitkamp</td>\n",
              "      <td>D</td>\n",
              "      <td>ND</td>\n",
              "      <td>0.0</td>\n",
              "      <td>1.0</td>\n",
              "      <td>0.0</td>\n",
              "      <td>1.0</td>\n",
              "      <td>0.0</td>\n",
              "      <td>0.0</td>\n",
              "      <td>1.0</td>\n",
              "      <td>1.0</td>\n",
              "      <td>0.0</td>\n",
              "      <td>0.0</td>\n",
              "      <td>0.0</td>\n",
              "      <td>1.0</td>\n",
              "      <td>0.0</td>\n",
              "      <td>0.0</td>\n",
              "      <td>0.0</td>\n",
              "    </tr>\n",
              "    <tr>\n",
              "      <th>56</th>\n",
              "      <td>Manchin</td>\n",
              "      <td>D</td>\n",
              "      <td>WV</td>\n",
              "      <td>0.0</td>\n",
              "      <td>1.0</td>\n",
              "      <td>0.0</td>\n",
              "      <td>1.0</td>\n",
              "      <td>0.0</td>\n",
              "      <td>0.0</td>\n",
              "      <td>1.0</td>\n",
              "      <td>1.0</td>\n",
              "      <td>1.0</td>\n",
              "      <td>0.0</td>\n",
              "      <td>0.0</td>\n",
              "      <td>1.0</td>\n",
              "      <td>1.0</td>\n",
              "      <td>0.0</td>\n",
              "      <td>0.0</td>\n",
              "    </tr>\n",
              "    <tr>\n",
              "      <th>74</th>\n",
              "      <td>Reid</td>\n",
              "      <td>D</td>\n",
              "      <td>NV</td>\n",
              "      <td>0.5</td>\n",
              "      <td>0.5</td>\n",
              "      <td>0.5</td>\n",
              "      <td>0.5</td>\n",
              "      <td>0.5</td>\n",
              "      <td>0.5</td>\n",
              "      <td>0.5</td>\n",
              "      <td>0.5</td>\n",
              "      <td>0.5</td>\n",
              "      <td>0.5</td>\n",
              "      <td>0.5</td>\n",
              "      <td>0.5</td>\n",
              "      <td>0.5</td>\n",
              "      <td>0.5</td>\n",
              "      <td>0.5</td>\n",
              "    </tr>\n",
              "  </tbody>\n",
              "</table>\n",
              "</div>"
            ],
            "text/plain": [
              "        name party state  00001  00004  ...  00032  00038  00039  00044  00047\n",
              "42  Heitkamp     D    ND    0.0    1.0  ...    0.0    1.0    0.0    0.0    0.0\n",
              "56   Manchin     D    WV    0.0    1.0  ...    0.0    1.0    1.0    0.0    0.0\n",
              "74      Reid     D    NV    0.5    0.5  ...    0.5    0.5    0.5    0.5    0.5\n",
              "\n",
              "[3 rows x 18 columns]"
            ]
          },
          "metadata": {
            "tags": []
          },
          "execution_count": 15
        }
      ]
    },
    {
      "cell_type": "code",
      "metadata": {
        "id": "d4SEBNoruHAE",
        "colab_type": "code",
        "colab": {}
      },
      "source": [
        ""
      ],
      "execution_count": 0,
      "outputs": []
    },
    {
      "cell_type": "code",
      "metadata": {
        "id": "4RCUTkrhwKX_",
        "colab_type": "code",
        "colab": {
          "base_uri": "https://localhost:8080/",
          "height": 265
        },
        "outputId": "0ad713aa-2530-4400-a9e1-57dfee7793be"
      },
      "source": [
        "plt.scatter(x=senator_distances[:,0], y=senator_distances[:,1], c=labels, linewidths=0)\n",
        "plt.show()"
      ],
      "execution_count": 48,
      "outputs": [
        {
          "output_type": "display_data",
          "data": {
            "image/png": "[encoded data removed]",
            "text/plain": [
              "<Figure size 432x288 with 1 Axes>"
            ]
          },
          "metadata": {
            "tags": [],
            "needs_background": "light"
          }
        }
      ]
    },
    {
      "cell_type": "code",
      "metadata": {
        "id": "S_e5LE4swZ8D",
        "colab_type": "code",
        "colab": {}
      },
      "source": [
        "extremes = senator_distances"
      ],
      "execution_count": 0,
      "outputs": []
    },
    {
      "cell_type": "code",
      "metadata": {
        "id": "G_Bhh0E25DSh",
        "colab_type": "code",
        "colab": {
          "base_uri": "https://localhost:8080/",
          "height": 35
        },
        "outputId": "0d551eea-c563-4003-915f-a81e4081af80"
      },
      "source": [
        "extremes.shape,np.sum(extremes,axis=1).sum()"
      ],
      "execution_count": 24,
      "outputs": [
        {
          "output_type": "execute_result",
          "data": {
            "text/plain": [
              "((100, 2), 390.740294476682)"
            ]
          },
          "metadata": {
            "tags": []
          },
          "execution_count": 24
        }
      ]
    },
    {
      "cell_type": "code",
      "metadata": {
        "id": "iPrki5Cx4qq8",
        "colab_type": "code",
        "colab": {
          "base_uri": "https://localhost:8080/",
          "height": 35
        },
        "outputId": "8fab85b1-fb30-4f1b-8d64-9a1bfce67444"
      },
      "source": [
        "np.sum(extremes,axis=1).shape"
      ],
      "execution_count": 23,
      "outputs": [
        {
          "output_type": "execute_result",
          "data": {
            "text/plain": [
              "(100,)"
            ]
          },
          "metadata": {
            "tags": []
          },
          "execution_count": 23
        }
      ]
    },
    {
      "cell_type": "code",
      "metadata": {
        "id": "2tiH_UgD4yG8",
        "colab_type": "code",
        "colab": {}
      },
      "source": [
        "extremes = (extremes**3).sum(axis=1)"
      ],
      "execution_count": 0,
      "outputs": []
    },
    {
      "cell_type": "code",
      "metadata": {
        "id": "2bBylrCP6nHI",
        "colab_type": "code",
        "colab": {}
      },
      "source": [
        "votes[\"extremism\"] = extremes"
      ],
      "execution_count": 0,
      "outputs": []
    },
    {
      "cell_type": "code",
      "metadata": {
        "id": "I65K5whi6oWj",
        "colab_type": "code",
        "colab": {
          "base_uri": "https://localhost:8080/",
          "height": 243
        },
        "outputId": "412ecf1b-08b4-4a17-c0aa-eb1f1a659773"
      },
      "source": [
        "votes.sort_values(\"extremism\", inplace=True, ascending=False)\n",
        "print(votes.head(10))"
      ],
      "execution_count": 30,
      "outputs": [
        {
          "output_type": "stream",
          "text": [
            "         name party state  00001  00004  ...  00038  00039  00044  00047  extremism\n",
            "98     Wicker     R    MS    0.0    1.0  ...    0.0    1.0    0.0    0.0  46.250476\n",
            "53   Lankford     R    OK    0.0    1.0  ...    0.0    1.0    0.0    0.0  46.046873\n",
            "69       Paul     R    KY    0.0    1.0  ...    0.0    1.0    0.0    0.0  46.046873\n",
            "80      Sasse     R    NE    0.0    1.0  ...    0.0    1.0    0.0    0.0  46.046873\n",
            "26       Cruz     R    TX    0.0    1.0  ...    0.0    1.0    0.0    0.0  46.046873\n",
            "48    Johnson     R    WI    0.0    1.0  ...    0.0    1.0    0.0    0.0  40.017540\n",
            "47    Isakson     R    GA    0.0    1.0  ...    0.0    1.0    0.0    0.0  40.017540\n",
            "65  Murkowski     R    AK    0.0    1.0  ...    0.0    1.0    0.0    0.0  40.017540\n",
            "64      Moran     R    KS    0.0    1.0  ...    0.0    1.0    0.0    0.0  40.017540\n",
            "30       Enzi     R    WY    0.0    1.0  ...    0.0    1.0    0.0    0.0  40.017540\n",
            "\n",
            "[10 rows x 19 columns]\n"
          ],
          "name": "stdout"
        }
      ]
    },
    {
      "cell_type": "code",
      "metadata": {
        "id": "yuiRDsCi63eX",
        "colab_type": "code",
        "colab": {}
      },
      "source": [
        ""
      ],
      "execution_count": 0,
      "outputs": []
    }
  ]
}