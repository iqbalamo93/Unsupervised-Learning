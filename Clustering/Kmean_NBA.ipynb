{
  "nbformat": 4,
  "nbformat_minor": 0,
  "metadata": {
    "colab": {
      "name": "Kmean_NBA.ipynb",
      "provenance": [],
      "collapsed_sections": [],
      "authorship_tag": "ABX9TyODidhGNQeKSS3iQHXoNNdX",
      "include_colab_link": true
    },
    "kernelspec": {
      "name": "python3",
      "display_name": "Python 3"
    }
  },
  "cells": [
    {
      "cell_type": "markdown",
      "metadata": {
        "id": "view-in-github",
        "colab_type": "text"
      },
      "source": [
        "<a href=\"https://colab.research.google.com/github/iqbalamo93/Clustering/blob/master/Kmean_NBA.ipynb\" target=\"_parent\"><img src=\"https://colab.research.google.com/assets/colab-badge.svg\" alt=\"Open In Colab\"/></a>"
      ]
    },
    {
      "cell_type": "code",
      "metadata": {
        "id": "tx5PQzW--kqG",
        "colab_type": "code",
        "colab": {}
      },
      "source": [
        "url='https://dsserver-prod-resources-1.s3.amazonaws.com/40/nba_2013.csv'"
      ],
      "execution_count": 0,
      "outputs": []
    },
    {
      "cell_type": "code",
      "metadata": {
        "id": "vj8TXyl2Ty_x",
        "colab_type": "code",
        "colab": {}
      },
      "source": [
        "import pandas as pd\n",
        "import numpy as np\n",
        "import matplotlib.pyplot as plt\n"
      ],
      "execution_count": 0,
      "outputs": []
    },
    {
      "cell_type": "code",
      "metadata": {
        "id": "KmC1kfYRUAar",
        "colab_type": "code",
        "colab": {}
      },
      "source": [
        "nba = pd.read_csv(url)"
      ],
      "execution_count": 0,
      "outputs": []
    },
    {
      "cell_type": "code",
      "metadata": {
        "id": "Wh1kTrbDUByq",
        "colab_type": "code",
        "colab": {}
      },
      "source": [
        "point_guards = nba[nba['pos'] == 'PG'].copy()"
      ],
      "execution_count": 0,
      "outputs": []
    },
    {
      "cell_type": "code",
      "metadata": {
        "id": "QjpVu9JLUiV9",
        "colab_type": "code",
        "colab": {}
      },
      "source": [
        "point_guards['ppg'] = point_guards['pts'] / point_guards['g']"
      ],
      "execution_count": 0,
      "outputs": []
    },
    {
      "cell_type": "code",
      "metadata": {
        "id": "2bepGb8FUzpw",
        "colab_type": "code",
        "colab": {}
      },
      "source": [
        "point_guards = point_guards[point_guards['tov'] != 0]\n",
        "point_guards['atr'] = point_guards['ast'] / point_guards['tov']"
      ],
      "execution_count": 0,
      "outputs": []
    },
    {
      "cell_type": "code",
      "metadata": {
        "id": "UuqiBW1-WrkY",
        "colab_type": "code",
        "colab": {
          "base_uri": "https://localhost:8080/",
          "height": 409
        },
        "outputId": "ab2790f5-da52-4c7f-9bd2-ed4c3480a678"
      },
      "source": [
        "figure= plt.figure(figsize=(6,6))\n",
        "ax1=figure.add_subplot(1,1,1)\n",
        "ax1.scatter(point_guards['ppg'], point_guards['atr'], c='y')\n",
        "ax1.spines['right'].set_visible(False)\n",
        "ax1.spines['top'].set_visible(False)\n",
        "ax1.set_xlabel('Points Per Game', fontsize=13)\n",
        "ax1.set_ylabel('Assist Turnover Ratio', fontsize=13)"
      ],
      "execution_count": 63,
      "outputs": [
        {
          "output_type": "execute_result",
          "data": {
            "text/plain": [
              "Text(0, 0.5, 'Assist Turnover Ratio')"
            ]
          },
          "metadata": {
            "tags": []
          },
          "execution_count": 63
        },
        {
          "output_type": "display_data",
          "data": {
            "image/png": "[encoded data removed]",
            "text/plain": [
              "<Figure size 432x432 with 1 Axes>"
            ]
          },
          "metadata": {
            "tags": [],
            "needs_background": "light"
          }
        }
      ]
    },
    {
      "cell_type": "code",
      "metadata": {
        "id": "AjZwAscFZi8n",
        "colab_type": "code",
        "colab": {
          "base_uri": "https://localhost:8080/",
          "height": 35
        },
        "outputId": "47228d7f-9add-42b4-8ee6-18ce148e9bc9"
      },
      "source": [
        "np.random.choice(point_guards.index, size=5)"
      ],
      "execution_count": 64,
      "outputs": [
        {
          "output_type": "execute_result",
          "data": {
            "text/plain": [
              "array([371,  87, 347, 136,  97])"
            ]
          },
          "metadata": {
            "tags": []
          },
          "execution_count": 64
        }
      ]
    },
    {
      "cell_type": "code",
      "metadata": {
        "id": "rSqwcZ1VeXko",
        "colab_type": "code",
        "colab": {}
      },
      "source": [
        "num_clusters = 5\n",
        "# Use numpy's random function to generate a list, length: num_clusters, of indices\n",
        "random_initial_points = np.random.choice(point_guards.index, size=num_clusters)\n",
        "# Use the random indices to create the centroids\n",
        "centroids = point_guards.loc[random_initial_points]"
      ],
      "execution_count": 0,
      "outputs": []
    },
    {
      "cell_type": "code",
      "metadata": {
        "id": "ezlWpVhrfLwl",
        "colab_type": "code",
        "colab": {
          "base_uri": "https://localhost:8080/",
          "height": 298
        },
        "outputId": "041b6b6e-4d73-4b1c-8ae2-532a0dab5161"
      },
      "source": [
        "plt.scatter(point_guards['ppg'], point_guards['atr'], c='yellow')\n",
        "plt.scatter(centroids['ppg'], centroids['atr'], c='red')\n",
        "plt.title(\"Centroids\")\n",
        "plt.xlabel('Points Per Game', fontsize=13)\n",
        "plt.ylabel('Assist Turnover Ratio', fontsize=13)\n",
        "plt.show()"
      ],
      "execution_count": 66,
      "outputs": [
        {
          "output_type": "display_data",
          "data": {
            "image/png": "[encoded data removed]",
            "text/plain": [
              "<Figure size 432x288 with 1 Axes>"
            ]
          },
          "metadata": {
            "tags": [],
            "needs_background": "light"
          }
        }
      ]
    },
    {
      "cell_type": "code",
      "metadata": {
        "id": "i8sECnjMfUtM",
        "colab_type": "code",
        "colab": {
          "base_uri": "https://localhost:8080/",
          "height": 35
        },
        "outputId": "19bdf60d-d030-44df-cf51-38443d37d604"
      },
      "source": [
        "random_initial_points"
      ],
      "execution_count": 67,
      "outputs": [
        {
          "output_type": "execute_result",
          "data": {
            "text/plain": [
              "array([374, 450, 221, 272, 360])"
            ]
          },
          "metadata": {
            "tags": []
          },
          "execution_count": 67
        }
      ]
    },
    {
      "cell_type": "code",
      "metadata": {
        "id": "PDr0-KEQfdN4",
        "colab_type": "code",
        "colab": {}
      },
      "source": [
        "def centroids_to_dict(centroids):\n",
        "    dictionary = dict()\n",
        "    # iterating counter we use to generate a cluster_id\n",
        "    counter = 0\n",
        "\n",
        "    # iterate a pandas data frame row-wise using .iterrows()\n",
        "    for index, row in centroids.iterrows():\n",
        "        coordinates = [row['ppg'], row['atr']]\n",
        "        dictionary[counter] = coordinates\n",
        "        counter += 1\n",
        "\n",
        "    return dictionary\n",
        "\n",
        "centroids_dict = centroids_to_dict(centroids)"
      ],
      "execution_count": 0,
      "outputs": []
    },
    {
      "cell_type": "code",
      "metadata": {
        "id": "qdU_HUBKf_1i",
        "colab_type": "code",
        "colab": {
          "base_uri": "https://localhost:8080/",
          "height": 104
        },
        "outputId": "eb5c8bee-9e7e-4b6f-ff0d-148b65ee5095"
      },
      "source": [
        "centroids_dict"
      ],
      "execution_count": 69,
      "outputs": [
        {
          "output_type": "execute_result",
          "data": {
            "text/plain": [
              "{0: [11.666666666666666, 2.9696969696969697],\n",
              " 1: [17.65753424657534, 2.6449704142011834],\n",
              " 2: [13.0875, 1.9702380952380953],\n",
              " 3: [20.670731707317074, 2.3678756476683938],\n",
              " 4: [3.8181818181818183, 3.8]}"
            ]
          },
          "metadata": {
            "tags": []
          },
          "execution_count": 69
        }
      ]
    },
    {
      "cell_type": "code",
      "metadata": {
        "id": "LPCHpYDCgBp_",
        "colab_type": "code",
        "colab": {
          "base_uri": "https://localhost:8080/",
          "height": 35
        },
        "outputId": "a6e7baa6-03f5-4d76-bc0a-641c7a4a60c5"
      },
      "source": [
        "import math\n",
        "\n",
        "def calculate_distance(centroid, player_values):\n",
        "    root_distance = 0\n",
        "    \n",
        "    for x in range(0, len(centroid)):\n",
        "        difference = centroid[x] - player_values[x]\n",
        "        squared_difference = difference**2\n",
        "        root_distance += squared_difference\n",
        "\n",
        "    euclid_distance = math.sqrt(root_distance)\n",
        "    return euclid_distance\n",
        "\n",
        "q = [5, 2]\n",
        "p = [3,1]\n",
        "\n",
        "# Sqrt(5) = ~2.24\n",
        "print(calculate_distance(q, p))"
      ],
      "execution_count": 70,
      "outputs": [
        {
          "output_type": "stream",
          "text": [
            "2.23606797749979\n"
          ],
          "name": "stdout"
        }
      ]
    },
    {
      "cell_type": "code",
      "metadata": {
        "id": "nl6ZKZGVgSvW",
        "colab_type": "code",
        "colab": {}
      },
      "source": [
        "# Add the function, `assign_to_cluster`\n",
        "# This creates the column, `cluster`, by applying assign_to_cluster row-\n",
        "def assign_to_cluster(row):\n",
        "    lowest_distance = -1\n",
        "    closest_cluster = -1\n",
        "    \n",
        "    for cluster_id, centroid in centroids_dict.items():\n",
        "        df_row = [row['ppg'], row['atr']]\n",
        "        euclidean_distance = calculate_distance(centroid, df_row)\n",
        "        \n",
        "        if lowest_distance == -1:\n",
        "            lowest_distance = euclidean_distance\n",
        "            closest_cluster = cluster_id \n",
        "        elif euclidean_distance < lowest_distance:\n",
        "            lowest_distance = euclidean_distance\n",
        "            closest_cluster = cluster_id\n",
        "    return closest_cluster\n",
        "\n",
        "point_guards['cluster'] = point_guards.apply(lambda row: assign_to_cluster(row), axis=1)"
      ],
      "execution_count": 0,
      "outputs": []
    },
    {
      "cell_type": "code",
      "metadata": {
        "id": "TtDFExctgyIf",
        "colab_type": "code",
        "colab": {
          "base_uri": "https://localhost:8080/",
          "height": 282
        },
        "outputId": "c09e1737-804c-4bcb-f262-2326a3b0344c"
      },
      "source": [
        "def visualize_clusters(df, num_clusters):\n",
        "    colors = ['b', 'g', 'r', 'c', 'm', 'y', 'k']\n",
        "\n",
        "    for n in range(num_clusters):\n",
        "        clustered_df = df[df['cluster'] == n]\n",
        "        plt.scatter(clustered_df['ppg'], clustered_df['atr'], c=colors[n-1])\n",
        "        plt.xlabel('Points Per Game', fontsize=13)\n",
        "        plt.ylabel('Assist Turnover Ratio', fontsize=13)\n",
        "    plt.show()\n",
        "\n",
        "visualize_clusters(point_guards, 5)"
      ],
      "execution_count": 72,
      "outputs": [
        {
          "output_type": "display_data",
          "data": {
            "image/png": "[encoded data removed]",
            "text/plain": [
              "<Figure size 432x288 with 1 Axes>"
            ]
          },
          "metadata": {
            "tags": [],
            "needs_background": "light"
          }
        }
      ]
    },
    {
      "cell_type": "code",
      "metadata": {
        "id": "WMsKTPOng2ex",
        "colab_type": "code",
        "colab": {}
      },
      "source": [
        "def recalculate_centroids(df):\n",
        "    new_centroids_dict = dict()\n",
        "    \n",
        "    for cluster_id in range(0, num_clusters):\n",
        "        values_in_cluster = df[df['cluster'] == cluster_id]\n",
        "        # Calculate new centroid using mean of values in the cluster\n",
        "        new_centroid = [np.average(values_in_cluster['ppg']), np.average(values_in_cluster['atr'])]\n",
        "        new_centroids_dict[cluster_id] = new_centroid\n",
        "    return new_centroids_dict\n",
        "\n",
        "centroids_dict = recalculate_centroids(point_guards)"
      ],
      "execution_count": 0,
      "outputs": []
    },
    {
      "cell_type": "code",
      "metadata": {
        "id": "367E957-hIlr",
        "colab_type": "code",
        "colab": {
          "base_uri": "https://localhost:8080/",
          "height": 282
        },
        "outputId": "bb8d6504-be7f-466d-9d35-6a7cebd0bc90"
      },
      "source": [
        "point_guards['cluster'] = point_guards.apply(lambda row: assign_to_cluster(row), axis=1)\n",
        "visualize_clusters(point_guards, num_clusters)"
      ],
      "execution_count": 74,
      "outputs": [
        {
          "output_type": "display_data",
          "data": {
            "image/png": "[encoded data removed]",
            "text/plain": [
              "<Figure size 432x288 with 1 Axes>"
            ]
          },
          "metadata": {
            "tags": [],
            "needs_background": "light"
          }
        }
      ]
    },
    {
      "cell_type": "code",
      "metadata": {
        "id": "0lL5O1xDhLrF",
        "colab_type": "code",
        "colab": {
          "base_uri": "https://localhost:8080/",
          "height": 282
        },
        "outputId": "eef731c0-945b-41b0-ffcd-3a1783388bf7"
      },
      "source": [
        "centroids_dict = recalculate_centroids(point_guards)\n",
        "point_guards['cluster'] = point_guards.apply(lambda row: assign_to_cluster(row), axis=1)\n",
        "visualize_clusters(point_guards, num_clusters)"
      ],
      "execution_count": 75,
      "outputs": [
        {
          "output_type": "display_data",
          "data": {
            "image/png": "[encoded data removed]",
            "text/plain": [
              "<Figure size 432x288 with 1 Axes>"
            ]
          },
          "metadata": {
            "tags": [],
            "needs_background": "light"
          }
        }
      ]
    },
    {
      "cell_type": "code",
      "metadata": {
        "id": "o83Pdc4vhcXp",
        "colab_type": "code",
        "colab": {
          "base_uri": "https://localhost:8080/",
          "height": 282
        },
        "outputId": "5cbca073-96b6-411d-96ab-7fb3a4808dd9"
      },
      "source": [
        "from sklearn.cluster import KMeans\n",
        "\n",
        "kmeans = KMeans(n_clusters=num_clusters)\n",
        "kmeans.fit(point_guards[['ppg', 'atr']])\n",
        "point_guards['cluster'] = kmeans.labels_\n",
        "\n",
        "visualize_clusters(point_guards, num_clusters)"
      ],
      "execution_count": 76,
      "outputs": [
        {
          "output_type": "display_data",
          "data": {
            "image/png": "[encoded data removed]",
            "text/plain": [
              "<Figure size 432x288 with 1 Axes>"
            ]
          },
          "metadata": {
            "tags": [],
            "needs_background": "light"
          }
        }
      ]
    },
    {
      "cell_type": "code",
      "metadata": {
        "id": "poN4gV9ThwOR",
        "colab_type": "code",
        "colab": {}
      },
      "source": [
        "point_guards['kmeans_label']=kmeans.labels_"
      ],
      "execution_count": 0,
      "outputs": []
    },
    {
      "cell_type": "code",
      "metadata": {
        "id": "HcK13LlkkvS4",
        "colab_type": "code",
        "colab": {}
      },
      "source": [
        "import seaborn as sns"
      ],
      "execution_count": 0,
      "outputs": []
    },
    {
      "cell_type": "code",
      "metadata": {
        "id": "xiCCMqTDlKjh",
        "colab_type": "code",
        "colab": {
          "base_uri": "https://localhost:8080/",
          "height": 297
        },
        "outputId": "8b02fae8-a4d4-41f6-f352-d0ac9307e204"
      },
      "source": [
        "cmap = sns.cubehelix_palette(dark=.10, light=.8, as_cmap=True)\n",
        "sns.scatterplot(x='ppg',y='atr',hue='kmeans_label',data=point_guards,palette='dark',legend=False)"
      ],
      "execution_count": 91,
      "outputs": [
        {
          "output_type": "execute_result",
          "data": {
            "text/plain": [
              "<matplotlib.axes._subplots.AxesSubplot at 0x7f242a042128>"
            ]
          },
          "metadata": {
            "tags": []
          },
          "execution_count": 91
        },
        {
          "output_type": "display_data",
          "data": {
            "image/png": "[encoded data removed]",
            "text/plain": [
              "<Figure size 432x288 with 1 Axes>"
            ]
          },
          "metadata": {
            "tags": [],
            "needs_background": "light"
          }
        }
      ]
    },
    {
      "cell_type": "code",
      "metadata": {
        "id": "EjsP5RwdlMKb",
        "colab_type": "code",
        "colab": {}
      },
      "source": [
        "#point_guards.head()"
      ],
      "execution_count": 0,
      "outputs": []
    },
    {
      "cell_type": "code",
      "metadata": {
        "id": "KtoJc_OQlOuH",
        "colab_type": "code",
        "colab": {}
      },
      "source": [
        "sample=point_guards.loc[24,['ppg', 'atr']].values.reshape(1,-1)"
      ],
      "execution_count": 0,
      "outputs": []
    },
    {
      "cell_type": "code",
      "metadata": {
        "id": "6jTLHl30ntzD",
        "colab_type": "code",
        "colab": {
          "base_uri": "https://localhost:8080/",
          "height": 35
        },
        "outputId": "bc2cd7c2-3b21-476d-b4d8-d3a2e60e39ee"
      },
      "source": [
        "kmeans.predict(sample)"
      ],
      "execution_count": 107,
      "outputs": [
        {
          "output_type": "execute_result",
          "data": {
            "text/plain": [
              "array([0], dtype=int32)"
            ]
          },
          "metadata": {
            "tags": []
          },
          "execution_count": 107
        }
      ]
    },
    {
      "cell_type": "code",
      "metadata": {
        "id": "f0SgCVkKn_v4",
        "colab_type": "code",
        "colab": {
          "base_uri": "https://localhost:8080/",
          "height": 35
        },
        "outputId": "ecc45c66-e82b-414f-937a-408df1aa1411"
      },
      "source": [
        "point_guards.loc[24,:]['kmeans_label']"
      ],
      "execution_count": 111,
      "outputs": [
        {
          "output_type": "execute_result",
          "data": {
            "text/plain": [
              "0"
            ]
          },
          "metadata": {
            "tags": []
          },
          "execution_count": 111
        }
      ]
    },
    {
      "cell_type": "code",
      "metadata": {
        "id": "uaUZ9dPnokzC",
        "colab_type": "code",
        "colab": {
          "base_uri": "https://localhost:8080/",
          "height": 104
        },
        "outputId": "de15ecf4-e85c-4891-8f7c-5fc54f31c3bf"
      },
      "source": [
        "kmeans.cluster_centers_"
      ],
      "execution_count": 114,
      "outputs": [
        {
          "output_type": "execute_result",
          "data": {
            "text/plain": [
              "array([[13.01805138,  2.25070481],\n",
              "       [ 3.25103221,  2.03206018],\n",
              "       [17.48314351,  2.45463901],\n",
              "       [ 8.61444883,  2.48981711],\n",
              "       [21.52605691,  2.16916888]])"
            ]
          },
          "metadata": {
            "tags": []
          },
          "execution_count": 114
        }
      ]
    },
    {
      "cell_type": "code",
      "metadata": {
        "id": "EDhBAyJNpHKU",
        "colab_type": "code",
        "colab": {
          "base_uri": "https://localhost:8080/",
          "height": 283
        },
        "outputId": "dfbae9d9-0186-4e45-fa76-2e66b6408229"
      },
      "source": [
        "plt.scatter(x=point_guards['ppg'],y=point_guards['atr'],c=kmeans.labels_)"
      ],
      "execution_count": 118,
      "outputs": [
        {
          "output_type": "execute_result",
          "data": {
            "text/plain": [
              "<matplotlib.collections.PathCollection at 0x7f241a47f7b8>"
            ]
          },
          "metadata": {
            "tags": []
          },
          "execution_count": 118
        },
        {
          "output_type": "display_data",
          "data": {
            "image/png": "[encoded data removed]",
            "text/plain": [
              "<Figure size 432x288 with 1 Axes>"
            ]
          },
          "metadata": {
            "tags": [],
            "needs_background": "light"
          }
        }
      ]
    },
    {
      "cell_type": "code",
      "metadata": {
        "id": "WJj27O0SsfGO",
        "colab_type": "code",
        "colab": {}
      },
      "source": [
        ""
      ],
      "execution_count": 0,
      "outputs": []
    }
  ]
}