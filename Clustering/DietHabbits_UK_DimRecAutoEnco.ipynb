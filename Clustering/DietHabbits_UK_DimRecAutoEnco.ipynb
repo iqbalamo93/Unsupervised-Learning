{
  "nbformat": 4,
  "nbformat_minor": 0,
  "metadata": {
    "kernelspec": {
      "display_name": "Python 3",
      "language": "python",
      "name": "python3"
    },
    "language_info": {
      "codemirror_mode": {
        "name": "ipython",
        "version": 3
      },
      "file_extension": ".py",
      "mimetype": "text/x-python",
      "name": "python",
      "nbconvert_exporter": "python",
      "pygments_lexer": "ipython3",
      "version": "3.7.5"
    },
    "colab": {
      "name": "DietHabbits_UK_DimRecAutoEnco.ipynb",
      "provenance": [],
      "collapsed_sections": [],
      "include_colab_link": true
    }
  },
  "cells": [
    {
      "cell_type": "markdown",
      "metadata": {
        "id": "view-in-github",
        "colab_type": "text"
      },
      "source": [
        "<a href=\"https://colab.research.google.com/github/iqbalamo93/Clustering/blob/master/DietHabbits_UK_DimRecAutoEnco.ipynb\" target=\"_parent\"><img src=\"https://colab.research.google.com/assets/colab-badge.svg\" alt=\"Open In Colab\"/></a>"
      ]
    },
    {
      "cell_type": "markdown",
      "metadata": {
        "id": "jdF_8rS4IgD2",
        "colab_type": "text"
      },
      "source": [
        "**Given a data set of average eating habits between countries in the United Kingdom, does any particular country stand out  as different **"
      ]
    },
    {
      "cell_type": "code",
      "metadata": {
        "id": "RwWmkfGg8cdy",
        "colab_type": "code",
        "colab": {
          "base_uri": "https://localhost:8080/",
          "height": 72
        },
        "outputId": "124431b5-0579-402d-fb62-199616e653e4"
      },
      "source": [
        "import pandas as pd\n",
        "import seaborn as sns\n",
        "import matplotlib.pyplot as plt"
      ],
      "execution_count": null,
      "outputs": [
        {
          "output_type": "stream",
          "text": [
            "/usr/local/lib/python3.6/dist-packages/statsmodels/tools/_testing.py:19: FutureWarning: pandas.util.testing is deprecated. Use the functions in the public API at pandas.testing instead.\n",
            "  import pandas.util.testing as tm\n"
          ],
          "name": "stderr"
        }
      ]
    },
    {
      "cell_type": "markdown",
      "metadata": {
        "id": "ClFhbQ7G8cd5",
        "colab_type": "text"
      },
      "source": [
        "## The Data\n",
        "\n",
        " In the table is the average consumption of 17 types of food in grams per person per week for every country in the UK.\n",
        "\n",
        "The table shows some interesting variations across different food types, but overall differences aren't so notable. \n",
        "Running the import line below to read in the data**"
      ]
    },
    {
      "cell_type": "code",
      "metadata": {
        "id": "FLu5s5Ds8qB0",
        "colab_type": "code",
        "colab": {}
      },
      "source": [
        "Url = 'https://raw.githubusercontent.com/iqbalamo93/Datasets/master/UK_foods.csv'"
      ],
      "execution_count": null,
      "outputs": []
    },
    {
      "cell_type": "code",
      "metadata": {
        "id": "JvbJh7Yb8cd6",
        "colab_type": "code",
        "colab": {}
      },
      "source": [
        "df = pd.read_csv(Url,index_col='Unnamed: 0')"
      ],
      "execution_count": null,
      "outputs": []
    },
    {
      "cell_type": "markdown",
      "metadata": {
        "id": "YGDTvG7e8ceB",
        "colab_type": "text"
      },
      "source": [
        "Display the Data"
      ]
    },
    {
      "cell_type": "code",
      "metadata": {
        "id": "k5YtBQ908ceC",
        "colab_type": "code",
        "colab": {
          "base_uri": "https://localhost:8080/",
          "height": 570
        },
        "outputId": "01c3e4e8-620c-46a2-df10-b276c2637932"
      },
      "source": [
        "df"
      ],
      "execution_count": null,
      "outputs": [
        {
          "output_type": "execute_result",
          "data": {
            "text/html": [
              "<div>\n",
              "<style scoped>\n",
              "    .dataframe tbody tr th:only-of-type {\n",
              "        vertical-align: middle;\n",
              "    }\n",
              "\n",
              "    .dataframe tbody tr th {\n",
              "        vertical-align: top;\n",
              "    }\n",
              "\n",
              "    .dataframe thead th {\n",
              "        text-align: right;\n",
              "    }\n",
              "</style>\n",
              "<table border=\"1\" class=\"dataframe\">\n",
              "  <thead>\n",
              "    <tr style=\"text-align: right;\">\n",
              "      <th></th>\n",
              "      <th>England</th>\n",
              "      <th>Wales</th>\n",
              "      <th>Scotland</th>\n",
              "      <th>N.Ireland</th>\n",
              "    </tr>\n",
              "  </thead>\n",
              "  <tbody>\n",
              "    <tr>\n",
              "      <th>Cheese</th>\n",
              "      <td>105</td>\n",
              "      <td>103</td>\n",
              "      <td>103</td>\n",
              "      <td>66</td>\n",
              "    </tr>\n",
              "    <tr>\n",
              "      <th>Carcass_meat</th>\n",
              "      <td>245</td>\n",
              "      <td>227</td>\n",
              "      <td>242</td>\n",
              "      <td>267</td>\n",
              "    </tr>\n",
              "    <tr>\n",
              "      <th>Other_meat</th>\n",
              "      <td>685</td>\n",
              "      <td>803</td>\n",
              "      <td>750</td>\n",
              "      <td>586</td>\n",
              "    </tr>\n",
              "    <tr>\n",
              "      <th>Fish</th>\n",
              "      <td>147</td>\n",
              "      <td>160</td>\n",
              "      <td>122</td>\n",
              "      <td>93</td>\n",
              "    </tr>\n",
              "    <tr>\n",
              "      <th>Fats_and_oils</th>\n",
              "      <td>193</td>\n",
              "      <td>235</td>\n",
              "      <td>184</td>\n",
              "      <td>209</td>\n",
              "    </tr>\n",
              "    <tr>\n",
              "      <th>Sugars</th>\n",
              "      <td>156</td>\n",
              "      <td>175</td>\n",
              "      <td>147</td>\n",
              "      <td>139</td>\n",
              "    </tr>\n",
              "    <tr>\n",
              "      <th>Fresh_potatoes</th>\n",
              "      <td>720</td>\n",
              "      <td>874</td>\n",
              "      <td>566</td>\n",
              "      <td>1033</td>\n",
              "    </tr>\n",
              "    <tr>\n",
              "      <th>Fresh_Veg</th>\n",
              "      <td>253</td>\n",
              "      <td>265</td>\n",
              "      <td>171</td>\n",
              "      <td>143</td>\n",
              "    </tr>\n",
              "    <tr>\n",
              "      <th>Other_Veg</th>\n",
              "      <td>488</td>\n",
              "      <td>570</td>\n",
              "      <td>418</td>\n",
              "      <td>355</td>\n",
              "    </tr>\n",
              "    <tr>\n",
              "      <th>Processed_potatoes</th>\n",
              "      <td>198</td>\n",
              "      <td>203</td>\n",
              "      <td>220</td>\n",
              "      <td>187</td>\n",
              "    </tr>\n",
              "    <tr>\n",
              "      <th>Processed_Veg</th>\n",
              "      <td>360</td>\n",
              "      <td>365</td>\n",
              "      <td>337</td>\n",
              "      <td>334</td>\n",
              "    </tr>\n",
              "    <tr>\n",
              "      <th>Fresh_fruit</th>\n",
              "      <td>1102</td>\n",
              "      <td>1137</td>\n",
              "      <td>957</td>\n",
              "      <td>674</td>\n",
              "    </tr>\n",
              "    <tr>\n",
              "      <th>Cereals</th>\n",
              "      <td>1472</td>\n",
              "      <td>1582</td>\n",
              "      <td>1462</td>\n",
              "      <td>1494</td>\n",
              "    </tr>\n",
              "    <tr>\n",
              "      <th>Beverages</th>\n",
              "      <td>57</td>\n",
              "      <td>73</td>\n",
              "      <td>53</td>\n",
              "      <td>47</td>\n",
              "    </tr>\n",
              "    <tr>\n",
              "      <th>Soft_drinks</th>\n",
              "      <td>1374</td>\n",
              "      <td>1256</td>\n",
              "      <td>1572</td>\n",
              "      <td>1506</td>\n",
              "    </tr>\n",
              "    <tr>\n",
              "      <th>Alcoholic_drinks</th>\n",
              "      <td>375</td>\n",
              "      <td>475</td>\n",
              "      <td>458</td>\n",
              "      <td>135</td>\n",
              "    </tr>\n",
              "    <tr>\n",
              "      <th>Confectionery</th>\n",
              "      <td>54</td>\n",
              "      <td>64</td>\n",
              "      <td>62</td>\n",
              "      <td>41</td>\n",
              "    </tr>\n",
              "  </tbody>\n",
              "</table>\n",
              "</div>"
            ],
            "text/plain": [
              "                     England  Wales  Scotland  N.Ireland\n",
              "Cheese                   105    103       103         66\n",
              "Carcass_meat             245    227       242        267\n",
              "Other_meat               685    803       750        586\n",
              "Fish                     147    160       122         93\n",
              "Fats_and_oils            193    235       184        209\n",
              "Sugars                   156    175       147        139\n",
              "Fresh_potatoes           720    874       566       1033\n",
              "Fresh_Veg                253    265       171        143\n",
              "Other_Veg                488    570       418        355\n",
              "Processed_potatoes       198    203       220        187\n",
              "Processed_Veg            360    365       337        334\n",
              "Fresh_fruit             1102   1137       957        674\n",
              "Cereals                 1472   1582      1462       1494\n",
              "Beverages                 57     73        53         47\n",
              "Soft_drinks             1374   1256      1572       1506\n",
              "Alcoholic_drinks         375    475       458        135\n",
              "Confectionery             54     64        62         41"
            ]
          },
          "metadata": {
            "tags": []
          },
          "execution_count": 4
        }
      ]
    },
    {
      "cell_type": "markdown",
      "metadata": {
        "id": "zygfeN9H8ceN",
        "colab_type": "text"
      },
      "source": [
        " Transpose the DataFrame so that the columns are now the index.**"
      ]
    },
    {
      "cell_type": "code",
      "metadata": {
        "id": "a4QODMAo8ceO",
        "colab_type": "code",
        "colab": {}
      },
      "source": [
        "df=df.transpose()"
      ],
      "execution_count": null,
      "outputs": []
    },
    {
      "cell_type": "code",
      "metadata": {
        "id": "aP-8nDRe8ceS",
        "colab_type": "code",
        "colab": {
          "base_uri": "https://localhost:8080/",
          "height": 191
        },
        "outputId": "4d0caca0-7cfd-41ee-fd24-0516c45f157f"
      },
      "source": [
        "df"
      ],
      "execution_count": null,
      "outputs": [
        {
          "output_type": "execute_result",
          "data": {
            "text/html": [
              "<div>\n",
              "<style scoped>\n",
              "    .dataframe tbody tr th:only-of-type {\n",
              "        vertical-align: middle;\n",
              "    }\n",
              "\n",
              "    .dataframe tbody tr th {\n",
              "        vertical-align: top;\n",
              "    }\n",
              "\n",
              "    .dataframe thead th {\n",
              "        text-align: right;\n",
              "    }\n",
              "</style>\n",
              "<table border=\"1\" class=\"dataframe\">\n",
              "  <thead>\n",
              "    <tr style=\"text-align: right;\">\n",
              "      <th></th>\n",
              "      <th>Cheese</th>\n",
              "      <th>Carcass_meat</th>\n",
              "      <th>Other_meat</th>\n",
              "      <th>Fish</th>\n",
              "      <th>Fats_and_oils</th>\n",
              "      <th>Sugars</th>\n",
              "      <th>Fresh_potatoes</th>\n",
              "      <th>Fresh_Veg</th>\n",
              "      <th>Other_Veg</th>\n",
              "      <th>Processed_potatoes</th>\n",
              "      <th>Processed_Veg</th>\n",
              "      <th>Fresh_fruit</th>\n",
              "      <th>Cereals</th>\n",
              "      <th>Beverages</th>\n",
              "      <th>Soft_drinks</th>\n",
              "      <th>Alcoholic_drinks</th>\n",
              "      <th>Confectionery</th>\n",
              "    </tr>\n",
              "  </thead>\n",
              "  <tbody>\n",
              "    <tr>\n",
              "      <th>England</th>\n",
              "      <td>105</td>\n",
              "      <td>245</td>\n",
              "      <td>685</td>\n",
              "      <td>147</td>\n",
              "      <td>193</td>\n",
              "      <td>156</td>\n",
              "      <td>720</td>\n",
              "      <td>253</td>\n",
              "      <td>488</td>\n",
              "      <td>198</td>\n",
              "      <td>360</td>\n",
              "      <td>1102</td>\n",
              "      <td>1472</td>\n",
              "      <td>57</td>\n",
              "      <td>1374</td>\n",
              "      <td>375</td>\n",
              "      <td>54</td>\n",
              "    </tr>\n",
              "    <tr>\n",
              "      <th>Wales</th>\n",
              "      <td>103</td>\n",
              "      <td>227</td>\n",
              "      <td>803</td>\n",
              "      <td>160</td>\n",
              "      <td>235</td>\n",
              "      <td>175</td>\n",
              "      <td>874</td>\n",
              "      <td>265</td>\n",
              "      <td>570</td>\n",
              "      <td>203</td>\n",
              "      <td>365</td>\n",
              "      <td>1137</td>\n",
              "      <td>1582</td>\n",
              "      <td>73</td>\n",
              "      <td>1256</td>\n",
              "      <td>475</td>\n",
              "      <td>64</td>\n",
              "    </tr>\n",
              "    <tr>\n",
              "      <th>Scotland</th>\n",
              "      <td>103</td>\n",
              "      <td>242</td>\n",
              "      <td>750</td>\n",
              "      <td>122</td>\n",
              "      <td>184</td>\n",
              "      <td>147</td>\n",
              "      <td>566</td>\n",
              "      <td>171</td>\n",
              "      <td>418</td>\n",
              "      <td>220</td>\n",
              "      <td>337</td>\n",
              "      <td>957</td>\n",
              "      <td>1462</td>\n",
              "      <td>53</td>\n",
              "      <td>1572</td>\n",
              "      <td>458</td>\n",
              "      <td>62</td>\n",
              "    </tr>\n",
              "    <tr>\n",
              "      <th>N.Ireland</th>\n",
              "      <td>66</td>\n",
              "      <td>267</td>\n",
              "      <td>586</td>\n",
              "      <td>93</td>\n",
              "      <td>209</td>\n",
              "      <td>139</td>\n",
              "      <td>1033</td>\n",
              "      <td>143</td>\n",
              "      <td>355</td>\n",
              "      <td>187</td>\n",
              "      <td>334</td>\n",
              "      <td>674</td>\n",
              "      <td>1494</td>\n",
              "      <td>47</td>\n",
              "      <td>1506</td>\n",
              "      <td>135</td>\n",
              "      <td>41</td>\n",
              "    </tr>\n",
              "  </tbody>\n",
              "</table>\n",
              "</div>"
            ],
            "text/plain": [
              "           Cheese  Carcass_meat   ...  Alcoholic_drinks   Confectionery \n",
              "England       105            245  ...                375              54\n",
              "Wales         103            227  ...                475              64\n",
              "Scotland      103            242  ...                458              62\n",
              "N.Ireland      66            267  ...                135              41\n",
              "\n",
              "[4 rows x 17 columns]"
            ]
          },
          "metadata": {
            "tags": []
          },
          "execution_count": 6
        }
      ]
    },
    {
      "cell_type": "markdown",
      "metadata": {
        "id": "ZrHNlUuA8ceX",
        "colab_type": "text"
      },
      "source": [
        "**Creating a heatmap from the DataFrame. Does any country really stand out as different than the others? It should be tricky to tell just from the image. Do any two countries appear to be very similar?**"
      ]
    },
    {
      "cell_type": "code",
      "metadata": {
        "id": "k_jlnbVe8ceY",
        "colab_type": "code",
        "colab": {
          "base_uri": "https://localhost:8080/",
          "height": 593
        },
        "outputId": "ef7d862c-4bfe-427f-b148-c92f92935dc0"
      },
      "source": [
        "plt.figure(figsize=(10,8))\n",
        "sns.heatmap(df)"
      ],
      "execution_count": null,
      "outputs": [
        {
          "output_type": "execute_result",
          "data": {
            "text/plain": [
              "<matplotlib.axes._subplots.AxesSubplot at 0x7f7a3d3600f0>"
            ]
          },
          "metadata": {
            "tags": []
          },
          "execution_count": 7
        },
        {
          "output_type": "display_data",
          "data": {
            "image/png": "[encoded data removed]",
            "text/plain": [
              "<Figure size 720x576 with 2 Axes>"
            ]
          },
          "metadata": {
            "tags": [],
            "needs_background": "light"
          }
        }
      ]
    },
    {
      "cell_type": "markdown",
      "metadata": {
        "id": "f5Fz8EzB8cef",
        "colab_type": "text"
      },
      "source": [
        "building an autoencoder. Our goal will be to reduce the dimensions from 17 --> 2 and see if any countries stand out as very different"
      ]
    },
    {
      "cell_type": "code",
      "metadata": {
        "id": "67roZ1e-8ceg",
        "colab_type": "code",
        "colab": {}
      },
      "source": [
        "from tensorflow.keras.models import Sequential\n",
        "from tensorflow.keras.layers import Dense\n",
        "from tensorflow.keras.optimizers import SGD"
      ],
      "execution_count": null,
      "outputs": []
    },
    {
      "cell_type": "markdown",
      "metadata": {
        "id": "doTKvxD98cen",
        "colab_type": "text"
      },
      "source": [
        "**Creating an encoder.**"
      ]
    },
    {
      "cell_type": "code",
      "metadata": {
        "id": "5ZeKnrX28ceo",
        "colab_type": "code",
        "colab": {}
      },
      "source": [
        "encoder = Sequential()\n",
        "encoder.add(Dense(units=8,activation='relu',input_shape=[17]))\n",
        "encoder.add(Dense(units=4,activation='relu'))\n",
        "encoder.add(Dense(units=2,activation='relu'))"
      ],
      "execution_count": null,
      "outputs": []
    },
    {
      "cell_type": "markdown",
      "metadata": {
        "id": "fg3eiSjw8cex",
        "colab_type": "text"
      },
      "source": [
        "**Creating a decoder**"
      ]
    },
    {
      "cell_type": "code",
      "metadata": {
        "id": "Wm8I-UcQ8cex",
        "colab_type": "code",
        "colab": {}
      },
      "source": [
        "decoder = Sequential()\n",
        "decoder.add(Dense(4,activation='relu',input_shape=[2]))\n",
        "decoder.add(Dense(8,activation='relu'))\n",
        "decoder.add(Dense(17,activation='relu'))#As ouput should match variables"
      ],
      "execution_count": null,
      "outputs": []
    },
    {
      "cell_type": "markdown",
      "metadata": {
        "id": "A1rdF4I78ce4",
        "colab_type": "text"
      },
      "source": [
        "**Combining the encoder and decoder to be an autoencoder and compile the model.**"
      ]
    },
    {
      "cell_type": "code",
      "metadata": {
        "id": "EN1UAXAP8ce5",
        "colab_type": "code",
        "colab": {}
      },
      "source": [
        "autoencoder = Sequential([encoder,decoder])"
      ],
      "execution_count": null,
      "outputs": []
    },
    {
      "cell_type": "code",
      "metadata": {
        "id": "ugF6PA5xBpGo",
        "colab_type": "code",
        "colab": {}
      },
      "source": [
        "autoencoder.compile(loss='mse',optimizer=SGD(lr=1.25))"
      ],
      "execution_count": null,
      "outputs": []
    },
    {
      "cell_type": "markdown",
      "metadata": {
        "id": "j4LhxzpN8cfI",
        "colab_type": "text"
      },
      "source": [
        "**Create a MinMaxScaler to scale the data**"
      ]
    },
    {
      "cell_type": "code",
      "metadata": {
        "id": "K-lYQ_iq8cfK",
        "colab_type": "code",
        "colab": {}
      },
      "source": [
        "from sklearn.preprocessing import  MinMaxScaler"
      ],
      "execution_count": null,
      "outputs": []
    },
    {
      "cell_type": "code",
      "metadata": {
        "id": "TT8zNIya8cfS",
        "colab_type": "code",
        "colab": {}
      },
      "source": [
        "scaler = MinMaxScaler()"
      ],
      "execution_count": null,
      "outputs": []
    },
    {
      "cell_type": "code",
      "metadata": {
        "id": "9N81Z9RG8cfX",
        "colab_type": "code",
        "colab": {}
      },
      "source": [
        "scaled_df = scaler.fit_transform(df.values)"
      ],
      "execution_count": null,
      "outputs": []
    },
    {
      "cell_type": "code",
      "metadata": {
        "id": "l1jCXSWP8cfc",
        "colab_type": "code",
        "colab": {
          "base_uri": "https://localhost:8080/",
          "height": 35
        },
        "outputId": "10363608-0453-42d9-82a5-13bb45da2d77"
      },
      "source": [
        "scaled_df.shape"
      ],
      "execution_count": null,
      "outputs": [
        {
          "output_type": "execute_result",
          "data": {
            "text/plain": [
              "(4, 17)"
            ]
          },
          "metadata": {
            "tags": []
          },
          "execution_count": 16
        }
      ]
    },
    {
      "cell_type": "markdown",
      "metadata": {
        "id": "qu4z5mk58cfm",
        "colab_type": "text"
      },
      "source": [
        "**Fiting the autoencoder to the scaled data for 15 epochs.**"
      ]
    },
    {
      "cell_type": "code",
      "metadata": {
        "id": "Jyhb7hKpNq4b",
        "colab_type": "code",
        "colab": {}
      },
      "source": [
        ""
      ],
      "execution_count": null,
      "outputs": []
    },
    {
      "cell_type": "code",
      "metadata": {
        "id": "sDL6ZRPB8cfn",
        "colab_type": "code",
        "colab": {
          "base_uri": "https://localhost:8080/",
          "height": 555
        },
        "outputId": "8a2c0f03-9c93-4219-ea94-6a353adcaeeb"
      },
      "source": [
        "autoencoder.fit(scaled_df,scaled_df,epochs=15)"
      ],
      "execution_count": null,
      "outputs": [
        {
          "output_type": "stream",
          "text": [
            "Epoch 1/15\n",
            "1/1 [==============================] - 0s 1ms/step - loss: 0.4148\n",
            "Epoch 2/15\n",
            "1/1 [==============================] - 0s 3ms/step - loss: 0.3164\n",
            "Epoch 3/15\n",
            "1/1 [==============================] - 0s 1ms/step - loss: 0.2767\n",
            "Epoch 4/15\n",
            "1/1 [==============================] - 0s 2ms/step - loss: 0.2601\n",
            "Epoch 5/15\n",
            "1/1 [==============================] - 0s 2ms/step - loss: 0.2622\n",
            "Epoch 6/15\n",
            "1/1 [==============================] - 0s 1ms/step - loss: 0.2995\n",
            "Epoch 7/15\n",
            "1/1 [==============================] - 0s 2ms/step - loss: 0.2602\n",
            "Epoch 8/15\n",
            "1/1 [==============================] - 0s 2ms/step - loss: 0.2780\n",
            "Epoch 9/15\n",
            "1/1 [==============================] - 0s 2ms/step - loss: 0.2596\n",
            "Epoch 10/15\n",
            "1/1 [==============================] - 0s 2ms/step - loss: 0.2835\n",
            "Epoch 11/15\n",
            "1/1 [==============================] - 0s 3ms/step - loss: 0.2548\n",
            "Epoch 12/15\n",
            "1/1 [==============================] - 0s 2ms/step - loss: 0.2693\n",
            "Epoch 13/15\n",
            "1/1 [==============================] - 0s 2ms/step - loss: 0.2569\n",
            "Epoch 14/15\n",
            "1/1 [==============================] - 0s 2ms/step - loss: 0.2796\n",
            "Epoch 15/15\n",
            "1/1 [==============================] - 0s 2ms/step - loss: 0.2499\n"
          ],
          "name": "stdout"
        },
        {
          "output_type": "execute_result",
          "data": {
            "text/plain": [
              "<tensorflow.python.keras.callbacks.History at 0x7f79f3b79f60>"
            ]
          },
          "metadata": {
            "tags": []
          },
          "execution_count": 17
        }
      ]
    },
    {
      "cell_type": "markdown",
      "metadata": {
        "id": "TIGTMisB8cf1",
        "colab_type": "text"
      },
      "source": [
        "**Running the scaled data through only the encoder and predict the reduced dimensionalty output.**"
      ]
    },
    {
      "cell_type": "code",
      "metadata": {
        "id": "QjptmaHyKBZn",
        "colab_type": "code",
        "colab": {}
      },
      "source": [
        "encoded_2d = encoder.predict(scaled_df)"
      ],
      "execution_count": null,
      "outputs": []
    },
    {
      "cell_type": "code",
      "metadata": {
        "id": "OP6jNiSnNI_s",
        "colab_type": "code",
        "colab": {}
      },
      "source": [
        ""
      ],
      "execution_count": null,
      "outputs": []
    },
    {
      "cell_type": "code",
      "metadata": {
        "id": "KvoSWD-x8cf2",
        "colab_type": "code",
        "colab": {
          "base_uri": "https://localhost:8080/",
          "height": 87
        },
        "outputId": "7b04986e-8885-4797-8dcf-a37033bd46d3"
      },
      "source": [
        "encoded_2d "
      ],
      "execution_count": null,
      "outputs": [
        {
          "output_type": "execute_result",
          "data": {
            "text/plain": [
              "array([[0.62121075, 0.        ],\n",
              "       [1.5245595 , 0.        ],\n",
              "       [0.42936942, 0.        ],\n",
              "       [0.05178743, 0.        ]], dtype=float32)"
            ]
          },
          "metadata": {
            "tags": []
          },
          "execution_count": 19
        }
      ]
    },
    {
      "cell_type": "markdown",
      "metadata": {
        "id": "bf_Oc4TL8cf_",
        "colab_type": "text"
      },
      "source": [
        "**Join the encoded 2 dimensional data with the original countries index. Triple check the index order to make sure its joined correctly. There are many ways to do this with pandas.**"
      ]
    },
    {
      "cell_type": "code",
      "metadata": {
        "id": "VSOgregq8cgA",
        "colab_type": "code",
        "colab": {
          "base_uri": "https://localhost:8080/",
          "height": 35
        },
        "outputId": "b16f53d1-a1de-4867-d1fc-4d5773d5121d"
      },
      "source": [
        "df.index"
      ],
      "execution_count": null,
      "outputs": [
        {
          "output_type": "execute_result",
          "data": {
            "text/plain": [
              "Index(['England', 'Wales', 'Scotland', 'N.Ireland'], dtype='object')"
            ]
          },
          "metadata": {
            "tags": []
          },
          "execution_count": 20
        }
      ]
    },
    {
      "cell_type": "code",
      "metadata": {
        "id": "mbInNnzI8cgE",
        "colab_type": "code",
        "colab": {}
      },
      "source": [
        "results = pd.DataFrame(data=encoded_2d,\n",
        "                       index=df.index,\n",
        "                       columns=['C1','C2'])"
      ],
      "execution_count": null,
      "outputs": []
    },
    {
      "cell_type": "code",
      "metadata": {
        "id": "kApcl4qV8cgI",
        "colab_type": "code",
        "colab": {
          "base_uri": "https://localhost:8080/",
          "height": 171
        },
        "outputId": "e99f2702-8ff4-4947-8185-0d0558d0768f"
      },
      "source": [
        "results"
      ],
      "execution_count": null,
      "outputs": [
        {
          "output_type": "execute_result",
          "data": {
            "text/html": [
              "<div>\n",
              "<style scoped>\n",
              "    .dataframe tbody tr th:only-of-type {\n",
              "        vertical-align: middle;\n",
              "    }\n",
              "\n",
              "    .dataframe tbody tr th {\n",
              "        vertical-align: top;\n",
              "    }\n",
              "\n",
              "    .dataframe thead th {\n",
              "        text-align: right;\n",
              "    }\n",
              "</style>\n",
              "<table border=\"1\" class=\"dataframe\">\n",
              "  <thead>\n",
              "    <tr style=\"text-align: right;\">\n",
              "      <th></th>\n",
              "      <th>C1</th>\n",
              "      <th>C2</th>\n",
              "    </tr>\n",
              "  </thead>\n",
              "  <tbody>\n",
              "    <tr>\n",
              "      <th>England</th>\n",
              "      <td>0.621211</td>\n",
              "      <td>0.0</td>\n",
              "    </tr>\n",
              "    <tr>\n",
              "      <th>Wales</th>\n",
              "      <td>1.524559</td>\n",
              "      <td>0.0</td>\n",
              "    </tr>\n",
              "    <tr>\n",
              "      <th>Scotland</th>\n",
              "      <td>0.429369</td>\n",
              "      <td>0.0</td>\n",
              "    </tr>\n",
              "    <tr>\n",
              "      <th>N.Ireland</th>\n",
              "      <td>0.051787</td>\n",
              "      <td>0.0</td>\n",
              "    </tr>\n",
              "  </tbody>\n",
              "</table>\n",
              "</div>"
            ],
            "text/plain": [
              "                 C1   C2\n",
              "England    0.621211  0.0\n",
              "Wales      1.524559  0.0\n",
              "Scotland   0.429369  0.0\n",
              "N.Ireland  0.051787  0.0"
            ]
          },
          "metadata": {
            "tags": []
          },
          "execution_count": 22
        }
      ]
    },
    {
      "cell_type": "code",
      "metadata": {
        "id": "pw4QRe3Y8cgM",
        "colab_type": "code",
        "colab": {}
      },
      "source": [
        "results = results.reset_index()"
      ],
      "execution_count": null,
      "outputs": []
    },
    {
      "cell_type": "code",
      "metadata": {
        "id": "eE2OLoNA8cgO",
        "colab_type": "code",
        "colab": {
          "base_uri": "https://localhost:8080/",
          "height": 171
        },
        "outputId": "d0d03403-9fe6-45ce-d3ee-f8d2e830a0e9"
      },
      "source": [
        "results"
      ],
      "execution_count": null,
      "outputs": [
        {
          "output_type": "execute_result",
          "data": {
            "text/html": [
              "<div>\n",
              "<style scoped>\n",
              "    .dataframe tbody tr th:only-of-type {\n",
              "        vertical-align: middle;\n",
              "    }\n",
              "\n",
              "    .dataframe tbody tr th {\n",
              "        vertical-align: top;\n",
              "    }\n",
              "\n",
              "    .dataframe thead th {\n",
              "        text-align: right;\n",
              "    }\n",
              "</style>\n",
              "<table border=\"1\" class=\"dataframe\">\n",
              "  <thead>\n",
              "    <tr style=\"text-align: right;\">\n",
              "      <th></th>\n",
              "      <th>index</th>\n",
              "      <th>C1</th>\n",
              "      <th>C2</th>\n",
              "    </tr>\n",
              "  </thead>\n",
              "  <tbody>\n",
              "    <tr>\n",
              "      <th>0</th>\n",
              "      <td>England</td>\n",
              "      <td>0.621211</td>\n",
              "      <td>0.0</td>\n",
              "    </tr>\n",
              "    <tr>\n",
              "      <th>1</th>\n",
              "      <td>Wales</td>\n",
              "      <td>1.524559</td>\n",
              "      <td>0.0</td>\n",
              "    </tr>\n",
              "    <tr>\n",
              "      <th>2</th>\n",
              "      <td>Scotland</td>\n",
              "      <td>0.429369</td>\n",
              "      <td>0.0</td>\n",
              "    </tr>\n",
              "    <tr>\n",
              "      <th>3</th>\n",
              "      <td>N.Ireland</td>\n",
              "      <td>0.051787</td>\n",
              "      <td>0.0</td>\n",
              "    </tr>\n",
              "  </tbody>\n",
              "</table>\n",
              "</div>"
            ],
            "text/plain": [
              "       index        C1   C2\n",
              "0    England  0.621211  0.0\n",
              "1      Wales  1.524559  0.0\n",
              "2   Scotland  0.429369  0.0\n",
              "3  N.Ireland  0.051787  0.0"
            ]
          },
          "metadata": {
            "tags": []
          },
          "execution_count": 24
        }
      ]
    },
    {
      "cell_type": "markdown",
      "metadata": {
        "id": "yzkChOBD8cgR",
        "colab_type": "text"
      },
      "source": [
        "**Now plotting out these results in a scatterplot, labeled by their respective country. You should see N. Ireland further away from the other points.**"
      ]
    },
    {
      "cell_type": "code",
      "metadata": {
        "id": "MoUOYWcu8cgS",
        "colab_type": "code",
        "colab": {
          "base_uri": "https://localhost:8080/",
          "height": 297
        },
        "outputId": "8c7540f6-0008-4e48-b60e-d73003c37d65"
      },
      "source": [
        "sns.scatterplot(x='C1', y='C2', hue='index',data=results)"
      ],
      "execution_count": null,
      "outputs": [
        {
          "output_type": "execute_result",
          "data": {
            "text/plain": [
              "<matplotlib.axes._subplots.AxesSubplot at 0x7f79f0d47b38>"
            ]
          },
          "metadata": {
            "tags": []
          },
          "execution_count": 25
        },
        {
          "output_type": "display_data",
          "data": {
            "image/png": "[encoded data removed]",
            "text/plain": [
              "<Figure size 432x288 with 1 Axes>"
            ]
          },
          "metadata": {
            "tags": [],
            "needs_background": "light"
          }
        }
      ]
    },
    {
      "cell_type": "markdown",
      "metadata": {
        "id": "ImfSr8DP8cgW",
        "colab_type": "text"
      },
      "source": [
        "<img src='https://github.com/iqbalamo93/Autoencoder/blob/master/ResuluV2.png?raw=true'>\n",
        "\n",
        "Based on Other random seesd, you can see distinction of N.Ireland and Wales from rest"
      ]
    },
    {
      "cell_type": "code",
      "metadata": {
        "id": "3ar1g6IDPT-p",
        "colab_type": "code",
        "colab": {}
      },
      "source": [
        ""
      ],
      "execution_count": null,
      "outputs": []
    }
  ]
}