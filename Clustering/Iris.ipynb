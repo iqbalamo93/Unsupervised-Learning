{
  "nbformat": 4,
  "nbformat_minor": 0,
  "metadata": {
    "colab": {
      "name": "Iris.ipynb",
      "provenance": [],
      "authorship_tag": "ABX9TyN7v9OeCXM0zgTx4WQIEn5P",
      "include_colab_link": true
    },
    "kernelspec": {
      "name": "python3",
      "display_name": "Python 3"
    }
  },
  "cells": [
    {
      "cell_type": "markdown",
      "metadata": {
        "id": "view-in-github",
        "colab_type": "text"
      },
      "source": [
        "<a href=\"https://colab.research.google.com/github/iqbalamo93/Clustering/blob/master/Iris.ipynb\" target=\"_parent\"><img src=\"https://colab.research.google.com/assets/colab-badge.svg\" alt=\"Open In Colab\"/></a>"
      ]
    },
    {
      "cell_type": "code",
      "metadata": {
        "id": "j24MahfKbkMw",
        "colab_type": "code",
        "colab": {
          "base_uri": "https://localhost:8080/",
          "height": 72
        },
        "outputId": "97d53267-b9e4-491a-a52a-a7cf4f407140"
      },
      "source": [
        "import numpy as np\n",
        "import pandas as pd\n",
        "import seaborn as sns\n",
        "import matplotlib.pyplot as plt\n"
      ],
      "execution_count": null,
      "outputs": [
        {
          "output_type": "stream",
          "text": [
            "/usr/local/lib/python3.6/dist-packages/statsmodels/tools/_testing.py:19: FutureWarning: pandas.util.testing is deprecated. Use the functions in the public API at pandas.testing instead.\n",
            "  import pandas.util.testing as tm\n"
          ],
          "name": "stderr"
        }
      ]
    },
    {
      "cell_type": "code",
      "metadata": {
        "id": "pHnPJYxMbq6E",
        "colab_type": "code",
        "colab": {}
      },
      "source": [
        "from sklearn.datasets import load_iris"
      ],
      "execution_count": null,
      "outputs": []
    },
    {
      "cell_type": "code",
      "metadata": {
        "id": "PPNqwLFobyiO",
        "colab_type": "code",
        "colab": {}
      },
      "source": [
        "data = load_iris()"
      ],
      "execution_count": null,
      "outputs": []
    },
    {
      "cell_type": "code",
      "metadata": {
        "id": "y8pSkZX5b6TP",
        "colab_type": "code",
        "colab": {
          "base_uri": "https://localhost:8080/",
          "height": 35
        },
        "outputId": "591621cf-c05f-41d9-eae0-febc1f83f71b"
      },
      "source": [
        "data.keys()"
      ],
      "execution_count": null,
      "outputs": [
        {
          "output_type": "execute_result",
          "data": {
            "text/plain": [
              "dict_keys(['data', 'target', 'target_names', 'DESCR', 'feature_names', 'filename'])"
            ]
          },
          "metadata": {
            "tags": []
          },
          "execution_count": 4
        }
      ]
    },
    {
      "cell_type": "code",
      "metadata": {
        "id": "MVjkAdpAdVjh",
        "colab_type": "code",
        "colab": {
          "base_uri": "https://localhost:8080/",
          "height": 1000
        },
        "outputId": "92c0d57c-ee64-48c6-ed6a-a9abe171e1e4"
      },
      "source": [
        "data"
      ],
      "execution_count": null,
      "outputs": [
        {
          "output_type": "execute_result",
          "data": {
            "text/plain": [
              "{'DESCR': '.. _iris_dataset:\\n\\nIris plants dataset\\n--------------------\\n\\n**Data Set Characteristics:**\\n\\n    :Number of Instances: 150 (50 in each of three classes)\\n    :Number of Attributes: 4 numeric, predictive attributes and the class\\n    :Attribute Information:\\n        - sepal length in cm\\n        - sepal width in cm\\n        - petal length in cm\\n        - petal width in cm\\n        - class:\\n                - Iris-Setosa\\n                - Iris-Versicolour\\n                - Iris-Virginica\\n                \\n    :Summary Statistics:\\n\\n    ============== ==== ==== ======= ===== ====================\\n                    Min  Max   Mean    SD   Class Correlation\\n    ============== ==== ==== ======= ===== ====================\\n    sepal length:   4.3  7.9   5.84   0.83    0.7826\\n    sepal width:    2.0  4.4   3.05   0.43   -0.4194\\n    petal length:   1.0  6.9   3.76   1.76    0.9490  (high!)\\n    petal width:    0.1  2.5   1.20   0.76    0.9565  (high!)\\n    ============== ==== ==== ======= ===== ====================\\n\\n    :Missing Attribute Values: None\\n    :Class Distribution: 33.3% for each of 3 classes.\\n    :Creator: R.A. Fisher\\n    :Donor: Michael Marshall (MARSHALL%PLU@io.arc.nasa.gov)\\n    :Date: July, 1988\\n\\nThe famous Iris database, first used by Sir R.A. Fisher. The dataset is taken\\nfrom Fisher\\'s paper. Note that it\\'s the same as in R, but not as in the UCI\\nMachine Learning Repository, which has two wrong data points.\\n\\nThis is perhaps the best known database to be found in the\\npattern recognition literature.  Fisher\\'s paper is a classic in the field and\\nis referenced frequently to this day.  (See Duda & Hart, for example.)  The\\ndata set contains 3 classes of 50 instances each, where each class refers to a\\ntype of iris plant.  One class is linearly separable from the other 2; the\\nlatter are NOT linearly separable from each other.\\n\\n.. topic:: References\\n\\n   - Fisher, R.A. \"The use of multiple measurements in taxonomic problems\"\\n     Annual Eugenics, 7, Part II, 179-188 (1936); also in \"Contributions to\\n     Mathematical Statistics\" (John Wiley, NY, 1950).\\n   - Duda, R.O., & Hart, P.E. (1973) Pattern Classification and Scene Analysis.\\n     (Q327.D83) John Wiley & Sons.  ISBN 0-471-22361-1.  See page 218.\\n   - Dasarathy, B.V. (1980) \"Nosing Around the Neighborhood: A New System\\n     Structure and Classification Rule for Recognition in Partially Exposed\\n     Environments\".  IEEE Transactions on Pattern Analysis and Machine\\n     Intelligence, Vol. PAMI-2, No. 1, 67-71.\\n   - Gates, G.W. (1972) \"The Reduced Nearest Neighbor Rule\".  IEEE Transactions\\n     on Information Theory, May 1972, 431-433.\\n   - See also: 1988 MLC Proceedings, 54-64.  Cheeseman et al\"s AUTOCLASS II\\n     conceptual clustering system finds 3 classes in the data.\\n   - Many, many more ...',\n",
              " 'data': array([[5.1, 3.5, 1.4, 0.2],\n",
              "        [4.9, 3. , 1.4, 0.2],\n",
              "        [4.7, 3.2, 1.3, 0.2],\n",
              "        [4.6, 3.1, 1.5, 0.2],\n",
              "        [5. , 3.6, 1.4, 0.2],\n",
              "        [5.4, 3.9, 1.7, 0.4],\n",
              "        [4.6, 3.4, 1.4, 0.3],\n",
              "        [5. , 3.4, 1.5, 0.2],\n",
              "        [4.4, 2.9, 1.4, 0.2],\n",
              "        [4.9, 3.1, 1.5, 0.1],\n",
              "        [5.4, 3.7, 1.5, 0.2],\n",
              "        [4.8, 3.4, 1.6, 0.2],\n",
              "        [4.8, 3. , 1.4, 0.1],\n",
              "        [4.3, 3. , 1.1, 0.1],\n",
              "        [5.8, 4. , 1.2, 0.2],\n",
              "        [5.7, 4.4, 1.5, 0.4],\n",
              "        [5.4, 3.9, 1.3, 0.4],\n",
              "        [5.1, 3.5, 1.4, 0.3],\n",
              "        [5.7, 3.8, 1.7, 0.3],\n",
              "        [5.1, 3.8, 1.5, 0.3],\n",
              "        [5.4, 3.4, 1.7, 0.2],\n",
              "        [5.1, 3.7, 1.5, 0.4],\n",
              "        [4.6, 3.6, 1. , 0.2],\n",
              "        [5.1, 3.3, 1.7, 0.5],\n",
              "        [4.8, 3.4, 1.9, 0.2],\n",
              "        [5. , 3. , 1.6, 0.2],\n",
              "        [5. , 3.4, 1.6, 0.4],\n",
              "        [5.2, 3.5, 1.5, 0.2],\n",
              "        [5.2, 3.4, 1.4, 0.2],\n",
              "        [4.7, 3.2, 1.6, 0.2],\n",
              "        [4.8, 3.1, 1.6, 0.2],\n",
              "        [5.4, 3.4, 1.5, 0.4],\n",
              "        [5.2, 4.1, 1.5, 0.1],\n",
              "        [5.5, 4.2, 1.4, 0.2],\n",
              "        [4.9, 3.1, 1.5, 0.2],\n",
              "        [5. , 3.2, 1.2, 0.2],\n",
              "        [5.5, 3.5, 1.3, 0.2],\n",
              "        [4.9, 3.6, 1.4, 0.1],\n",
              "        [4.4, 3. , 1.3, 0.2],\n",
              "        [5.1, 3.4, 1.5, 0.2],\n",
              "        [5. , 3.5, 1.3, 0.3],\n",
              "        [4.5, 2.3, 1.3, 0.3],\n",
              "        [4.4, 3.2, 1.3, 0.2],\n",
              "        [5. , 3.5, 1.6, 0.6],\n",
              "        [5.1, 3.8, 1.9, 0.4],\n",
              "        [4.8, 3. , 1.4, 0.3],\n",
              "        [5.1, 3.8, 1.6, 0.2],\n",
              "        [4.6, 3.2, 1.4, 0.2],\n",
              "        [5.3, 3.7, 1.5, 0.2],\n",
              "        [5. , 3.3, 1.4, 0.2],\n",
              "        [7. , 3.2, 4.7, 1.4],\n",
              "        [6.4, 3.2, 4.5, 1.5],\n",
              "        [6.9, 3.1, 4.9, 1.5],\n",
              "        [5.5, 2.3, 4. , 1.3],\n",
              "        [6.5, 2.8, 4.6, 1.5],\n",
              "        [5.7, 2.8, 4.5, 1.3],\n",
              "        [6.3, 3.3, 4.7, 1.6],\n",
              "        [4.9, 2.4, 3.3, 1. ],\n",
              "        [6.6, 2.9, 4.6, 1.3],\n",
              "        [5.2, 2.7, 3.9, 1.4],\n",
              "        [5. , 2. , 3.5, 1. ],\n",
              "        [5.9, 3. , 4.2, 1.5],\n",
              "        [6. , 2.2, 4. , 1. ],\n",
              "        [6.1, 2.9, 4.7, 1.4],\n",
              "        [5.6, 2.9, 3.6, 1.3],\n",
              "        [6.7, 3.1, 4.4, 1.4],\n",
              "        [5.6, 3. , 4.5, 1.5],\n",
              "        [5.8, 2.7, 4.1, 1. ],\n",
              "        [6.2, 2.2, 4.5, 1.5],\n",
              "        [5.6, 2.5, 3.9, 1.1],\n",
              "        [5.9, 3.2, 4.8, 1.8],\n",
              "        [6.1, 2.8, 4. , 1.3],\n",
              "        [6.3, 2.5, 4.9, 1.5],\n",
              "        [6.1, 2.8, 4.7, 1.2],\n",
              "        [6.4, 2.9, 4.3, 1.3],\n",
              "        [6.6, 3. , 4.4, 1.4],\n",
              "        [6.8, 2.8, 4.8, 1.4],\n",
              "        [6.7, 3. , 5. , 1.7],\n",
              "        [6. , 2.9, 4.5, 1.5],\n",
              "        [5.7, 2.6, 3.5, 1. ],\n",
              "        [5.5, 2.4, 3.8, 1.1],\n",
              "        [5.5, 2.4, 3.7, 1. ],\n",
              "        [5.8, 2.7, 3.9, 1.2],\n",
              "        [6. , 2.7, 5.1, 1.6],\n",
              "        [5.4, 3. , 4.5, 1.5],\n",
              "        [6. , 3.4, 4.5, 1.6],\n",
              "        [6.7, 3.1, 4.7, 1.5],\n",
              "        [6.3, 2.3, 4.4, 1.3],\n",
              "        [5.6, 3. , 4.1, 1.3],\n",
              "        [5.5, 2.5, 4. , 1.3],\n",
              "        [5.5, 2.6, 4.4, 1.2],\n",
              "        [6.1, 3. , 4.6, 1.4],\n",
              "        [5.8, 2.6, 4. , 1.2],\n",
              "        [5. , 2.3, 3.3, 1. ],\n",
              "        [5.6, 2.7, 4.2, 1.3],\n",
              "        [5.7, 3. , 4.2, 1.2],\n",
              "        [5.7, 2.9, 4.2, 1.3],\n",
              "        [6.2, 2.9, 4.3, 1.3],\n",
              "        [5.1, 2.5, 3. , 1.1],\n",
              "        [5.7, 2.8, 4.1, 1.3],\n",
              "        [6.3, 3.3, 6. , 2.5],\n",
              "        [5.8, 2.7, 5.1, 1.9],\n",
              "        [7.1, 3. , 5.9, 2.1],\n",
              "        [6.3, 2.9, 5.6, 1.8],\n",
              "        [6.5, 3. , 5.8, 2.2],\n",
              "        [7.6, 3. , 6.6, 2.1],\n",
              "        [4.9, 2.5, 4.5, 1.7],\n",
              "        [7.3, 2.9, 6.3, 1.8],\n",
              "        [6.7, 2.5, 5.8, 1.8],\n",
              "        [7.2, 3.6, 6.1, 2.5],\n",
              "        [6.5, 3.2, 5.1, 2. ],\n",
              "        [6.4, 2.7, 5.3, 1.9],\n",
              "        [6.8, 3. , 5.5, 2.1],\n",
              "        [5.7, 2.5, 5. , 2. ],\n",
              "        [5.8, 2.8, 5.1, 2.4],\n",
              "        [6.4, 3.2, 5.3, 2.3],\n",
              "        [6.5, 3. , 5.5, 1.8],\n",
              "        [7.7, 3.8, 6.7, 2.2],\n",
              "        [7.7, 2.6, 6.9, 2.3],\n",
              "        [6. , 2.2, 5. , 1.5],\n",
              "        [6.9, 3.2, 5.7, 2.3],\n",
              "        [5.6, 2.8, 4.9, 2. ],\n",
              "        [7.7, 2.8, 6.7, 2. ],\n",
              "        [6.3, 2.7, 4.9, 1.8],\n",
              "        [6.7, 3.3, 5.7, 2.1],\n",
              "        [7.2, 3.2, 6. , 1.8],\n",
              "        [6.2, 2.8, 4.8, 1.8],\n",
              "        [6.1, 3. , 4.9, 1.8],\n",
              "        [6.4, 2.8, 5.6, 2.1],\n",
              "        [7.2, 3. , 5.8, 1.6],\n",
              "        [7.4, 2.8, 6.1, 1.9],\n",
              "        [7.9, 3.8, 6.4, 2. ],\n",
              "        [6.4, 2.8, 5.6, 2.2],\n",
              "        [6.3, 2.8, 5.1, 1.5],\n",
              "        [6.1, 2.6, 5.6, 1.4],\n",
              "        [7.7, 3. , 6.1, 2.3],\n",
              "        [6.3, 3.4, 5.6, 2.4],\n",
              "        [6.4, 3.1, 5.5, 1.8],\n",
              "        [6. , 3. , 4.8, 1.8],\n",
              "        [6.9, 3.1, 5.4, 2.1],\n",
              "        [6.7, 3.1, 5.6, 2.4],\n",
              "        [6.9, 3.1, 5.1, 2.3],\n",
              "        [5.8, 2.7, 5.1, 1.9],\n",
              "        [6.8, 3.2, 5.9, 2.3],\n",
              "        [6.7, 3.3, 5.7, 2.5],\n",
              "        [6.7, 3. , 5.2, 2.3],\n",
              "        [6.3, 2.5, 5. , 1.9],\n",
              "        [6.5, 3. , 5.2, 2. ],\n",
              "        [6.2, 3.4, 5.4, 2.3],\n",
              "        [5.9, 3. , 5.1, 1.8]]),\n",
              " 'feature_names': ['sepal length (cm)',\n",
              "  'sepal width (cm)',\n",
              "  'petal length (cm)',\n",
              "  'petal width (cm)'],\n",
              " 'filename': '/usr/local/lib/python3.6/dist-packages/sklearn/datasets/data/iris.csv',\n",
              " 'target': array([0, 0, 0, 0, 0, 0, 0, 0, 0, 0, 0, 0, 0, 0, 0, 0, 0, 0, 0, 0, 0, 0,\n",
              "        0, 0, 0, 0, 0, 0, 0, 0, 0, 0, 0, 0, 0, 0, 0, 0, 0, 0, 0, 0, 0, 0,\n",
              "        0, 0, 0, 0, 0, 0, 1, 1, 1, 1, 1, 1, 1, 1, 1, 1, 1, 1, 1, 1, 1, 1,\n",
              "        1, 1, 1, 1, 1, 1, 1, 1, 1, 1, 1, 1, 1, 1, 1, 1, 1, 1, 1, 1, 1, 1,\n",
              "        1, 1, 1, 1, 1, 1, 1, 1, 1, 1, 1, 1, 2, 2, 2, 2, 2, 2, 2, 2, 2, 2,\n",
              "        2, 2, 2, 2, 2, 2, 2, 2, 2, 2, 2, 2, 2, 2, 2, 2, 2, 2, 2, 2, 2, 2,\n",
              "        2, 2, 2, 2, 2, 2, 2, 2, 2, 2, 2, 2, 2, 2, 2, 2, 2, 2]),\n",
              " 'target_names': array(['setosa', 'versicolor', 'virginica'], dtype='<U10')}"
            ]
          },
          "metadata": {
            "tags": []
          },
          "execution_count": 5
        }
      ]
    },
    {
      "cell_type": "code",
      "metadata": {
        "id": "nk6XEdj5dcJj",
        "colab_type": "code",
        "colab": {}
      },
      "source": [
        "target = pd.Series(data['target'],name='Tr')\n",
        "datum = pd.DataFrame(data['data'],columns=data['feature_names'])"
      ],
      "execution_count": null,
      "outputs": []
    },
    {
      "cell_type": "code",
      "metadata": {
        "id": "OjpaMrrfxLAa",
        "colab_type": "code",
        "colab": {}
      },
      "source": [
        "datum = pd.concat([datum,target],axis=1)\n",
        "datum['Name']=['setosa' if a==0 else 'versicolor' if a==1 else 'virginica' for a in datum['Tr']]"
      ],
      "execution_count": null,
      "outputs": []
    },
    {
      "cell_type": "code",
      "metadata": {
        "id": "Zu8fKfhzdiet",
        "colab_type": "code",
        "colab": {}
      },
      "source": [
        "datum.rename({'sepal length (cm)':'Sl','sepal width (cm)':'Sw',\n",
        "            'petal length (cm)':'Pl','petal width (cm)':'Pw'},inplace=True,axis=1)"
      ],
      "execution_count": null,
      "outputs": []
    },
    {
      "cell_type": "code",
      "metadata": {
        "id": "rADN90U2z16N",
        "colab_type": "code",
        "colab": {
          "base_uri": "https://localhost:8080/",
          "height": 202
        },
        "outputId": "01c5d19c-a0e8-44fa-862f-8f2c12b7a4f4"
      },
      "source": [
        "datum.head()"
      ],
      "execution_count": null,
      "outputs": [
        {
          "output_type": "execute_result",
          "data": {
            "text/html": [
              "<div>\n",
              "<style scoped>\n",
              "    .dataframe tbody tr th:only-of-type {\n",
              "        vertical-align: middle;\n",
              "    }\n",
              "\n",
              "    .dataframe tbody tr th {\n",
              "        vertical-align: top;\n",
              "    }\n",
              "\n",
              "    .dataframe thead th {\n",
              "        text-align: right;\n",
              "    }\n",
              "</style>\n",
              "<table border=\"1\" class=\"dataframe\">\n",
              "  <thead>\n",
              "    <tr style=\"text-align: right;\">\n",
              "      <th></th>\n",
              "      <th>Sl</th>\n",
              "      <th>Sw</th>\n",
              "      <th>Pl</th>\n",
              "      <th>Pw</th>\n",
              "      <th>Tr</th>\n",
              "      <th>Name</th>\n",
              "    </tr>\n",
              "  </thead>\n",
              "  <tbody>\n",
              "    <tr>\n",
              "      <th>0</th>\n",
              "      <td>5.1</td>\n",
              "      <td>3.5</td>\n",
              "      <td>1.4</td>\n",
              "      <td>0.2</td>\n",
              "      <td>0</td>\n",
              "      <td>setosa</td>\n",
              "    </tr>\n",
              "    <tr>\n",
              "      <th>1</th>\n",
              "      <td>4.9</td>\n",
              "      <td>3.0</td>\n",
              "      <td>1.4</td>\n",
              "      <td>0.2</td>\n",
              "      <td>0</td>\n",
              "      <td>setosa</td>\n",
              "    </tr>\n",
              "    <tr>\n",
              "      <th>2</th>\n",
              "      <td>4.7</td>\n",
              "      <td>3.2</td>\n",
              "      <td>1.3</td>\n",
              "      <td>0.2</td>\n",
              "      <td>0</td>\n",
              "      <td>setosa</td>\n",
              "    </tr>\n",
              "    <tr>\n",
              "      <th>3</th>\n",
              "      <td>4.6</td>\n",
              "      <td>3.1</td>\n",
              "      <td>1.5</td>\n",
              "      <td>0.2</td>\n",
              "      <td>0</td>\n",
              "      <td>setosa</td>\n",
              "    </tr>\n",
              "    <tr>\n",
              "      <th>4</th>\n",
              "      <td>5.0</td>\n",
              "      <td>3.6</td>\n",
              "      <td>1.4</td>\n",
              "      <td>0.2</td>\n",
              "      <td>0</td>\n",
              "      <td>setosa</td>\n",
              "    </tr>\n",
              "  </tbody>\n",
              "</table>\n",
              "</div>"
            ],
            "text/plain": [
              "    Sl   Sw   Pl   Pw  Tr    Name\n",
              "0  5.1  3.5  1.4  0.2   0  setosa\n",
              "1  4.9  3.0  1.4  0.2   0  setosa\n",
              "2  4.7  3.2  1.3  0.2   0  setosa\n",
              "3  4.6  3.1  1.5  0.2   0  setosa\n",
              "4  5.0  3.6  1.4  0.2   0  setosa"
            ]
          },
          "metadata": {
            "tags": []
          },
          "execution_count": 9
        }
      ]
    },
    {
      "cell_type": "code",
      "metadata": {
        "id": "lG2O8p5Zdsmo",
        "colab_type": "code",
        "colab": {}
      },
      "source": [
        "from sklearn.cluster import KMeans"
      ],
      "execution_count": null,
      "outputs": []
    },
    {
      "cell_type": "code",
      "metadata": {
        "id": "2PyrJ8Sa1ng1",
        "colab_type": "code",
        "colab": {
          "base_uri": "https://localhost:8080/",
          "height": 279
        },
        "outputId": "67598dee-1139-48eb-d333-b7c493d93b6b"
      },
      "source": [
        "df =datum.iloc[:,:-2]\n",
        "inertia  = []\n",
        "for x in range(1,9):\n",
        "  model =  KMeans(n_clusters=x, random_state=1)\n",
        "  model.fit(df)\n",
        "  inertia.append(model.inertia_)\n",
        "plt.plot(range(1,9),inertia,marker='x')\n",
        "plt.xlabel('Number of Cluster')\n",
        "plt.ylabel('Inertia')\n",
        "plt.show()"
      ],
      "execution_count": null,
      "outputs": [
        {
          "output_type": "display_data",
          "data": {
            "image/png": "[encoded data removed]",
            "text/plain": [
              "<Figure size 432x288 with 1 Axes>"
            ]
          },
          "metadata": {
            "tags": [],
            "needs_background": "light"
          }
        }
      ]
    },
    {
      "cell_type": "code",
      "metadata": {
        "id": "B6ozOHD8d6XC",
        "colab_type": "code",
        "colab": {}
      },
      "source": [
        "Kmeans = KMeans(n_clusters=3)\n",
        "diff= Kmeans.fit_transform(data['data'])"
      ],
      "execution_count": null,
      "outputs": []
    },
    {
      "cell_type": "code",
      "metadata": {
        "id": "b3tV3gn1eDb_",
        "colab_type": "code",
        "colab": {
          "base_uri": "https://localhost:8080/",
          "height": 139
        },
        "outputId": "afa2a911-2669-4476-b70d-2485140df869"
      },
      "source": [
        "Kmeans.labels_"
      ],
      "execution_count": null,
      "outputs": [
        {
          "output_type": "execute_result",
          "data": {
            "text/plain": [
              "array([0, 0, 0, 0, 0, 0, 0, 0, 0, 0, 0, 0, 0, 0, 0, 0, 0, 0, 0, 0, 0, 0,\n",
              "       0, 0, 0, 0, 0, 0, 0, 0, 0, 0, 0, 0, 0, 0, 0, 0, 0, 0, 0, 0, 0, 0,\n",
              "       0, 0, 0, 0, 0, 0, 1, 1, 2, 1, 1, 1, 1, 1, 1, 1, 1, 1, 1, 1, 1, 1,\n",
              "       1, 1, 1, 1, 1, 1, 1, 1, 1, 1, 1, 2, 1, 1, 1, 1, 1, 1, 1, 1, 1, 1,\n",
              "       1, 1, 1, 1, 1, 1, 1, 1, 1, 1, 1, 1, 2, 1, 2, 2, 2, 2, 1, 2, 2, 2,\n",
              "       2, 2, 2, 1, 1, 2, 2, 2, 2, 1, 2, 1, 2, 1, 2, 2, 1, 1, 2, 2, 2, 2,\n",
              "       2, 1, 2, 2, 2, 2, 1, 2, 2, 2, 1, 2, 2, 2, 1, 2, 2, 1], dtype=int32)"
            ]
          },
          "metadata": {
            "tags": []
          },
          "execution_count": 13
        }
      ]
    },
    {
      "cell_type": "code",
      "metadata": {
        "id": "uPFyZkGleMW2",
        "colab_type": "code",
        "colab": {
          "base_uri": "https://localhost:8080/",
          "height": 1000
        },
        "outputId": "6e6b08aa-11ed-44e8-e6a9-5dd12297b600"
      },
      "source": [
        "diff"
      ],
      "execution_count": null,
      "outputs": [
        {
          "output_type": "execute_result",
          "data": {
            "text/plain": [
              "array([[0.14135063, 3.41925061, 5.0595416 ],\n",
              "       [0.44763825, 3.39857426, 5.11494335],\n",
              "       [0.4171091 , 3.56935666, 5.27935534],\n",
              "       [0.52533799, 3.42240962, 5.15358977],\n",
              "       [0.18862662, 3.46726403, 5.10433388],\n",
              "       [0.67703767, 3.14673162, 4.68148797],\n",
              "       [0.4151867 , 3.51650264, 5.21147652],\n",
              "       [0.06618157, 3.33654987, 5.00252706],\n",
              "       [0.80745278, 3.57233779, 5.32798107],\n",
              "       [0.37627118, 3.3583767 , 5.06790865],\n",
              "       [0.4824728 , 3.32449131, 4.89806763],\n",
              "       [0.25373214, 3.31126872, 4.9966845 ],\n",
              "       [0.50077939, 3.46661272, 5.19103612],\n",
              "       [0.91322505, 3.90578362, 5.65173594],\n",
              "       [1.01409073, 3.646649  , 5.10804455],\n",
              "       [1.20481534, 3.49427881, 4.88564095],\n",
              "       [0.6542018 , 3.495248  , 5.03090587],\n",
              "       [0.1441527 , 3.38444981, 5.02342022],\n",
              "       [0.82436642, 3.11245944, 4.61792995],\n",
              "       [0.38933276, 3.37738931, 4.97213426],\n",
              "       [0.46344363, 3.07471224, 4.6955761 ],\n",
              "       [0.3286031 , 3.31506588, 4.9236821 ],\n",
              "       [0.64029681, 3.93167253, 5.59713396],\n",
              "       [0.38259639, 3.01233762, 4.68193765],\n",
              "       [0.48701129, 3.06241269, 4.75095704],\n",
              "       [0.45208406, 3.19414543, 4.90772894],\n",
              "       [0.20875823, 3.17967089, 4.84545508],\n",
              "       [0.21536016, 3.30941724, 4.93969029],\n",
              "       [0.21066561, 3.37648183, 5.01833618],\n",
              "       [0.40838707, 3.31272968, 5.02954567],\n",
              "       [0.41373905, 3.26550651, 4.98608729],\n",
              "       [0.42565244, 3.18083736, 4.79550372],\n",
              "       [0.71552778, 3.53142353, 5.06520776],\n",
              "       [0.91977171, 3.57102821, 5.04438334],\n",
              "       [0.34982853, 3.31992769, 5.02985959],\n",
              "       [0.35039977, 3.56904033, 5.25071556],\n",
              "       [0.52685861, 3.43783276, 5.02368214],\n",
              "       [0.25686572, 3.53114948, 5.17865184],\n",
              "       [0.76077592, 3.66205264, 5.40750095],\n",
              "       [0.11480418, 3.31092773, 4.9664149 ],\n",
              "       [0.18541845, 3.49764675, 5.14520862],\n",
              "       [1.24803045, 3.60850034, 5.38423754],\n",
              "       [0.6690142 , 3.68120561, 5.40847417],\n",
              "       [0.38675574, 3.14278239, 4.78803478],\n",
              "       [0.60231221, 3.00585191, 4.59828494],\n",
              "       [0.48205809, 3.39468045, 5.11844067],\n",
              "       [0.41034132, 3.32788568, 4.92421655],\n",
              "       [0.47199576, 3.51879523, 5.23766854],\n",
              "       [0.40494444, 3.34104251, 4.92859681],\n",
              "       [0.14959947, 3.40601705, 5.08216833],\n",
              "       [3.98049997, 1.22697525, 1.25489071],\n",
              "       [3.57731464, 0.684141  , 1.44477759],\n",
              "       [4.13366423, 1.17527644, 1.01903626],\n",
              "       [3.01144152, 0.73153652, 2.45978458],\n",
              "       [3.74779669, 0.63853451, 1.3520017 ],\n",
              "       [3.34908644, 0.26937898, 1.88009327],\n",
              "       [3.74283048, 0.76452634, 1.28902785],\n",
              "       [2.23937045, 1.58388575, 3.37155487],\n",
              "       [3.71181627, 0.75582717, 1.41123804],\n",
              "       [2.8005678 , 0.85984838, 2.58955659],\n",
              "       [2.60022691, 1.53611907, 3.27864111],\n",
              "       [3.17042268, 0.32426175, 1.90055758],\n",
              "       [3.08317693, 0.80841374, 2.38073698],\n",
              "       [3.64581678, 0.39674141, 1.45909603],\n",
              "       [2.51268382, 0.87269542, 2.60303733],\n",
              "       [3.59732957, 0.87306498, 1.50822767],\n",
              "       [3.36719171, 0.41229163, 1.85387593],\n",
              "       [2.94753796, 0.53579956, 2.25517257],\n",
              "       [3.70615434, 0.6367639 , 1.74778451],\n",
              "       [2.80841236, 0.71254917, 2.49557781],\n",
              "       [3.79583719, 0.7093731 , 1.37094403],\n",
              "       [3.02383531, 0.46349013, 2.06563694],\n",
              "       [3.99098735, 0.69373966, 1.29106776],\n",
              "       [3.60360653, 0.43661144, 1.57547425],\n",
              "       [3.37448959, 0.54593856, 1.70495043],\n",
              "       [3.56196294, 0.74313017, 1.52298639],\n",
              "       [4.01083283, 0.98798453, 1.18965415],\n",
              "       [4.20528001, 1.06739835, 0.84636259],\n",
              "       [3.47401497, 0.21993519, 1.61913335],\n",
              "       [2.42676328, 1.0243726 , 2.77868071],\n",
              "       [2.73795179, 0.86396528, 2.6440625 ],\n",
              "       [2.62259032, 0.97566381, 2.75566654],\n",
              "       [2.83096803, 0.55763082, 2.32254696],\n",
              "       [4.07263797, 0.73395781, 1.22324554],\n",
              "       [3.33772078, 0.57500396, 1.9942056 ],\n",
              "       [3.47153856, 0.68790275, 1.61049622],\n",
              "       [3.87741924, 0.92700552, 1.19803047],\n",
              "       [3.56224367, 0.61459444, 1.81572464],\n",
              "       [2.93359506, 0.50830256, 2.20430516],\n",
              "       [2.94237659, 0.6291191 , 2.40438484],\n",
              "       [3.23598208, 0.48790256, 2.14635877],\n",
              "       [3.5438369 , 0.38266958, 1.52402278],\n",
              "       [2.94407541, 0.49185351, 2.26286106],\n",
              "       [2.28455247, 1.5485635 , 3.33648305],\n",
              "       [3.08064604, 0.3856087 , 2.16211718],\n",
              "       [3.01190637, 0.44284695, 2.11299567],\n",
              "       [3.0607156 , 0.3449879 , 2.07973003],\n",
              "       [3.29690461, 0.37241653, 1.76829182],\n",
              "       [1.99117553, 1.66064034, 3.44291999],\n",
              "       [2.99098312, 0.38393196, 2.16527941],\n",
              "       [5.23113563, 2.0445799 , 0.77731871],\n",
              "       [4.13898297, 0.85382472, 1.29757391],\n",
              "       [5.26319105, 2.05245342, 0.30610139],\n",
              "       [4.63585807, 1.33089245, 0.65293923],\n",
              "       [5.00515534, 1.72813078, 0.38458885],\n",
              "       [6.06204421, 2.87401886, 1.14225684],\n",
              "       [3.49513662, 1.07101875, 2.4108337 ],\n",
              "       [5.6002125 , 2.39730707, 0.78573677],\n",
              "       [4.9963967 , 1.67668563, 0.65454939],\n",
              "       [5.60667281, 2.54158648, 0.8435596 ],\n",
              "       [4.31225927, 1.17541367, 0.74552218],\n",
              "       [4.46533089, 1.13563278, 0.75289837],\n",
              "       [4.81086063, 1.59322675, 0.25958095],\n",
              "       [4.11543193, 0.88917352, 1.48572618],\n",
              "       [4.34736472, 1.20227628, 1.30303821],\n",
              "       [4.57650303, 1.42273608, 0.68288333],\n",
              "       [4.59734489, 1.33403966, 0.50991553],\n",
              "       [6.21697515, 3.20105585, 1.47791217],\n",
              "       [6.46018421, 3.20759942, 1.52971038],\n",
              "       [4.07258886, 0.82617494, 1.53708992],\n",
              "       [5.08121836, 1.91251832, 0.26952816],\n",
              "       [3.95519658, 0.81891975, 1.5334904 ],\n",
              "       [6.17779734, 2.9794431 , 1.31149299],\n",
              "       [4.05452587, 0.74269596, 1.10668455],\n",
              "       [4.92787784, 1.75847731, 0.27627819],\n",
              "       [5.27958142, 2.14580999, 0.52766931],\n",
              "       [3.92137476, 0.62526165, 1.20765678],\n",
              "       [3.95155412, 0.70228926, 1.16212743],\n",
              "       [4.78518338, 1.4663925 , 0.54629196],\n",
              "       [5.06442297, 1.93773659, 0.59428255],\n",
              "       [5.51111422, 2.31885342, 0.7312665 ],\n",
              "       [5.99783127, 3.07340053, 1.43802246],\n",
              "       [4.8248088 , 1.51444141, 0.5605572 ],\n",
              "       [4.10808715, 0.81536685, 1.05631592],\n",
              "       [4.50967626, 1.23209127, 1.12133058],\n",
              "       [5.75940796, 2.6381171 , 0.95311851],\n",
              "       [4.84127876, 1.72401927, 0.73306362],\n",
              "       [4.557541  , 1.31541133, 0.57903109],\n",
              "       [3.83775716, 0.61011676, 1.29960041],\n",
              "       [4.7581488 , 1.60532899, 0.34794609],\n",
              "       [4.97393004, 1.77481954, 0.3893492 ],\n",
              "       [4.59878027, 1.53937059, 0.68403844],\n",
              "       [4.13898297, 0.85382472, 1.29757391],\n",
              "       [5.21394093, 2.00764279, 0.30952112],\n",
              "       [5.09187392, 1.94554509, 0.50939919],\n",
              "       [4.60916261, 1.44957743, 0.61173881],\n",
              "       [4.21767471, 0.89747884, 1.10072376],\n",
              "       [4.41184542, 1.17993324, 0.65334214],\n",
              "       [4.59925864, 1.50889317, 0.83572418],\n",
              "       [4.0782815 , 0.83452741, 1.1805499 ]])"
            ]
          },
          "metadata": {
            "tags": []
          },
          "execution_count": 14
        }
      ]
    },
    {
      "cell_type": "code",
      "metadata": {
        "id": "ahHU0LPnqufp",
        "colab_type": "code",
        "colab": {
          "base_uri": "https://localhost:8080/",
          "height": 1000
        },
        "outputId": "61432159-d05a-465e-b7ca-64dbd45e5926"
      },
      "source": [
        "Model_fit = KMeans(n_clusters=3)\n",
        "Model_fit.fit(df)\n",
        "Model_fit.transform(df)"
      ],
      "execution_count": null,
      "outputs": [
        {
          "output_type": "execute_result",
          "data": {
            "text/plain": [
              "array([[3.41925061, 0.14135063, 5.0595416 ],\n",
              "       [3.39857426, 0.44763825, 5.11494335],\n",
              "       [3.56935666, 0.4171091 , 5.27935534],\n",
              "       [3.42240962, 0.52533799, 5.15358977],\n",
              "       [3.46726403, 0.18862662, 5.10433388],\n",
              "       [3.14673162, 0.67703767, 4.68148797],\n",
              "       [3.51650264, 0.4151867 , 5.21147652],\n",
              "       [3.33654987, 0.06618157, 5.00252706],\n",
              "       [3.57233779, 0.80745278, 5.32798107],\n",
              "       [3.3583767 , 0.37627118, 5.06790865],\n",
              "       [3.32449131, 0.4824728 , 4.89806763],\n",
              "       [3.31126872, 0.25373214, 4.9966845 ],\n",
              "       [3.46661272, 0.50077939, 5.19103612],\n",
              "       [3.90578362, 0.91322505, 5.65173594],\n",
              "       [3.646649  , 1.01409073, 5.10804455],\n",
              "       [3.49427881, 1.20481534, 4.88564095],\n",
              "       [3.495248  , 0.6542018 , 5.03090587],\n",
              "       [3.38444981, 0.1441527 , 5.02342022],\n",
              "       [3.11245944, 0.82436642, 4.61792995],\n",
              "       [3.37738931, 0.38933276, 4.97213426],\n",
              "       [3.07471224, 0.46344363, 4.6955761 ],\n",
              "       [3.31506588, 0.3286031 , 4.9236821 ],\n",
              "       [3.93167253, 0.64029681, 5.59713396],\n",
              "       [3.01233762, 0.38259639, 4.68193765],\n",
              "       [3.06241269, 0.48701129, 4.75095704],\n",
              "       [3.19414543, 0.45208406, 4.90772894],\n",
              "       [3.17967089, 0.20875823, 4.84545508],\n",
              "       [3.30941724, 0.21536016, 4.93969029],\n",
              "       [3.37648183, 0.21066561, 5.01833618],\n",
              "       [3.31272968, 0.40838707, 5.02954567],\n",
              "       [3.26550651, 0.41373905, 4.98608729],\n",
              "       [3.18083736, 0.42565244, 4.79550372],\n",
              "       [3.53142353, 0.71552778, 5.06520776],\n",
              "       [3.57102821, 0.91977171, 5.04438334],\n",
              "       [3.31992769, 0.34982853, 5.02985959],\n",
              "       [3.56904033, 0.35039977, 5.25071556],\n",
              "       [3.43783276, 0.52685861, 5.02368214],\n",
              "       [3.53114948, 0.25686572, 5.17865184],\n",
              "       [3.66205264, 0.76077592, 5.40750095],\n",
              "       [3.31092773, 0.11480418, 4.9664149 ],\n",
              "       [3.49764675, 0.18541845, 5.14520862],\n",
              "       [3.60850034, 1.24803045, 5.38423754],\n",
              "       [3.68120561, 0.6690142 , 5.40847417],\n",
              "       [3.14278239, 0.38675574, 4.78803478],\n",
              "       [3.00585191, 0.60231221, 4.59828494],\n",
              "       [3.39468045, 0.48205809, 5.11844067],\n",
              "       [3.32788568, 0.41034132, 4.92421655],\n",
              "       [3.51879523, 0.47199576, 5.23766854],\n",
              "       [3.34104251, 0.40494444, 4.92859681],\n",
              "       [3.40601705, 0.14959947, 5.08216833],\n",
              "       [1.22697525, 3.98049997, 1.25489071],\n",
              "       [0.684141  , 3.57731464, 1.44477759],\n",
              "       [1.17527644, 4.13366423, 1.01903626],\n",
              "       [0.73153652, 3.01144152, 2.45978458],\n",
              "       [0.63853451, 3.74779669, 1.3520017 ],\n",
              "       [0.26937898, 3.34908644, 1.88009327],\n",
              "       [0.76452634, 3.74283048, 1.28902785],\n",
              "       [1.58388575, 2.23937045, 3.37155487],\n",
              "       [0.75582717, 3.71181627, 1.41123804],\n",
              "       [0.85984838, 2.8005678 , 2.58955659],\n",
              "       [1.53611907, 2.60022691, 3.27864111],\n",
              "       [0.32426175, 3.17042268, 1.90055758],\n",
              "       [0.80841374, 3.08317693, 2.38073698],\n",
              "       [0.39674141, 3.64581678, 1.45909603],\n",
              "       [0.87269542, 2.51268382, 2.60303733],\n",
              "       [0.87306498, 3.59732957, 1.50822767],\n",
              "       [0.41229163, 3.36719171, 1.85387593],\n",
              "       [0.53579956, 2.94753796, 2.25517257],\n",
              "       [0.6367639 , 3.70615434, 1.74778451],\n",
              "       [0.71254917, 2.80841236, 2.49557781],\n",
              "       [0.7093731 , 3.79583719, 1.37094403],\n",
              "       [0.46349013, 3.02383531, 2.06563694],\n",
              "       [0.69373966, 3.99098735, 1.29106776],\n",
              "       [0.43661144, 3.60360653, 1.57547425],\n",
              "       [0.54593856, 3.37448959, 1.70495043],\n",
              "       [0.74313017, 3.56196294, 1.52298639],\n",
              "       [0.98798453, 4.01083283, 1.18965415],\n",
              "       [1.06739835, 4.20528001, 0.84636259],\n",
              "       [0.21993519, 3.47401497, 1.61913335],\n",
              "       [1.0243726 , 2.42676328, 2.77868071],\n",
              "       [0.86396528, 2.73795179, 2.6440625 ],\n",
              "       [0.97566381, 2.62259032, 2.75566654],\n",
              "       [0.55763082, 2.83096803, 2.32254696],\n",
              "       [0.73395781, 4.07263797, 1.22324554],\n",
              "       [0.57500396, 3.33772078, 1.9942056 ],\n",
              "       [0.68790275, 3.47153856, 1.61049622],\n",
              "       [0.92700552, 3.87741924, 1.19803047],\n",
              "       [0.61459444, 3.56224367, 1.81572464],\n",
              "       [0.50830256, 2.93359506, 2.20430516],\n",
              "       [0.6291191 , 2.94237659, 2.40438484],\n",
              "       [0.48790256, 3.23598208, 2.14635877],\n",
              "       [0.38266958, 3.5438369 , 1.52402278],\n",
              "       [0.49185351, 2.94407541, 2.26286106],\n",
              "       [1.5485635 , 2.28455247, 3.33648305],\n",
              "       [0.3856087 , 3.08064604, 2.16211718],\n",
              "       [0.44284695, 3.01190637, 2.11299567],\n",
              "       [0.3449879 , 3.0607156 , 2.07973003],\n",
              "       [0.37241653, 3.29690461, 1.76829182],\n",
              "       [1.66064034, 1.99117553, 3.44291999],\n",
              "       [0.38393196, 2.99098312, 2.16527941],\n",
              "       [2.0445799 , 5.23113563, 0.77731871],\n",
              "       [0.85382472, 4.13898297, 1.29757391],\n",
              "       [2.05245342, 5.26319105, 0.30610139],\n",
              "       [1.33089245, 4.63585807, 0.65293923],\n",
              "       [1.72813078, 5.00515534, 0.38458885],\n",
              "       [2.87401886, 6.06204421, 1.14225684],\n",
              "       [1.07101875, 3.49513662, 2.4108337 ],\n",
              "       [2.39730707, 5.6002125 , 0.78573677],\n",
              "       [1.67668563, 4.9963967 , 0.65454939],\n",
              "       [2.54158648, 5.60667281, 0.8435596 ],\n",
              "       [1.17541367, 4.31225927, 0.74552218],\n",
              "       [1.13563278, 4.46533089, 0.75289837],\n",
              "       [1.59322675, 4.81086063, 0.25958095],\n",
              "       [0.88917352, 4.11543193, 1.48572618],\n",
              "       [1.20227628, 4.34736472, 1.30303821],\n",
              "       [1.42273608, 4.57650303, 0.68288333],\n",
              "       [1.33403966, 4.59734489, 0.50991553],\n",
              "       [3.20105585, 6.21697515, 1.47791217],\n",
              "       [3.20759942, 6.46018421, 1.52971038],\n",
              "       [0.82617494, 4.07258886, 1.53708992],\n",
              "       [1.91251832, 5.08121836, 0.26952816],\n",
              "       [0.81891975, 3.95519658, 1.5334904 ],\n",
              "       [2.9794431 , 6.17779734, 1.31149299],\n",
              "       [0.74269596, 4.05452587, 1.10668455],\n",
              "       [1.75847731, 4.92787784, 0.27627819],\n",
              "       [2.14580999, 5.27958142, 0.52766931],\n",
              "       [0.62526165, 3.92137476, 1.20765678],\n",
              "       [0.70228926, 3.95155412, 1.16212743],\n",
              "       [1.4663925 , 4.78518338, 0.54629196],\n",
              "       [1.93773659, 5.06442297, 0.59428255],\n",
              "       [2.31885342, 5.51111422, 0.7312665 ],\n",
              "       [3.07340053, 5.99783127, 1.43802246],\n",
              "       [1.51444141, 4.8248088 , 0.5605572 ],\n",
              "       [0.81536685, 4.10808715, 1.05631592],\n",
              "       [1.23209127, 4.50967626, 1.12133058],\n",
              "       [2.6381171 , 5.75940796, 0.95311851],\n",
              "       [1.72401927, 4.84127876, 0.73306362],\n",
              "       [1.31541133, 4.557541  , 0.57903109],\n",
              "       [0.61011676, 3.83775716, 1.29960041],\n",
              "       [1.60532899, 4.7581488 , 0.34794609],\n",
              "       [1.77481954, 4.97393004, 0.3893492 ],\n",
              "       [1.53937059, 4.59878027, 0.68403844],\n",
              "       [0.85382472, 4.13898297, 1.29757391],\n",
              "       [2.00764279, 5.21394093, 0.30952112],\n",
              "       [1.94554509, 5.09187392, 0.50939919],\n",
              "       [1.44957743, 4.60916261, 0.61173881],\n",
              "       [0.89747884, 4.21767471, 1.10072376],\n",
              "       [1.17993324, 4.41184542, 0.65334214],\n",
              "       [1.50889317, 4.59925864, 0.83572418],\n",
              "       [0.83452741, 4.0782815 , 1.1805499 ]])"
            ]
          },
          "metadata": {
            "tags": []
          },
          "execution_count": 15
        }
      ]
    },
    {
      "cell_type": "code",
      "metadata": {
        "id": "QwOTbxIbfyWk",
        "colab_type": "code",
        "colab": {
          "base_uri": "https://localhost:8080/",
          "height": 139
        },
        "outputId": "6a59f96f-cfbd-45ce-c765-ea45a3616297"
      },
      "source": [
        "Model_fit.labels_"
      ],
      "execution_count": null,
      "outputs": [
        {
          "output_type": "execute_result",
          "data": {
            "text/plain": [
              "array([1, 1, 1, 1, 1, 1, 1, 1, 1, 1, 1, 1, 1, 1, 1, 1, 1, 1, 1, 1, 1, 1,\n",
              "       1, 1, 1, 1, 1, 1, 1, 1, 1, 1, 1, 1, 1, 1, 1, 1, 1, 1, 1, 1, 1, 1,\n",
              "       1, 1, 1, 1, 1, 1, 0, 0, 2, 0, 0, 0, 0, 0, 0, 0, 0, 0, 0, 0, 0, 0,\n",
              "       0, 0, 0, 0, 0, 0, 0, 0, 0, 0, 0, 2, 0, 0, 0, 0, 0, 0, 0, 0, 0, 0,\n",
              "       0, 0, 0, 0, 0, 0, 0, 0, 0, 0, 0, 0, 2, 0, 2, 2, 2, 2, 0, 2, 2, 2,\n",
              "       2, 2, 2, 0, 0, 2, 2, 2, 2, 0, 2, 0, 2, 0, 2, 2, 0, 0, 2, 2, 2, 2,\n",
              "       2, 0, 2, 2, 2, 2, 0, 2, 2, 2, 0, 2, 2, 2, 0, 2, 2, 0], dtype=int32)"
            ]
          },
          "metadata": {
            "tags": []
          },
          "execution_count": 16
        }
      ]
    },
    {
      "cell_type": "code",
      "metadata": {
        "id": "sYiZtciVgJsn",
        "colab_type": "code",
        "colab": {
          "base_uri": "https://localhost:8080/",
          "height": 69
        },
        "outputId": "cbabfe89-5343-4901-9420-492d5752d291"
      },
      "source": [
        "centroids = Model_fit.cluster_centers_\n",
        "print(centroids)"
      ],
      "execution_count": null,
      "outputs": [
        {
          "output_type": "stream",
          "text": [
            "[[5.9016129  2.7483871  4.39354839 1.43387097]\n",
            " [5.006      3.428      1.462      0.246     ]\n",
            " [6.85       3.07368421 5.74210526 2.07105263]]\n"
          ],
          "name": "stdout"
        }
      ]
    },
    {
      "cell_type": "code",
      "metadata": {
        "id": "LVQkY-69B0E8",
        "colab_type": "code",
        "colab": {
          "base_uri": "https://localhost:8080/",
          "height": 355
        },
        "outputId": "676558f8-322e-4ab9-adf9-94a7d41438f0"
      },
      "source": [
        "datum[140:]"
      ],
      "execution_count": null,
      "outputs": [
        {
          "output_type": "execute_result",
          "data": {
            "text/html": [
              "<div>\n",
              "<style scoped>\n",
              "    .dataframe tbody tr th:only-of-type {\n",
              "        vertical-align: middle;\n",
              "    }\n",
              "\n",
              "    .dataframe tbody tr th {\n",
              "        vertical-align: top;\n",
              "    }\n",
              "\n",
              "    .dataframe thead th {\n",
              "        text-align: right;\n",
              "    }\n",
              "</style>\n",
              "<table border=\"1\" class=\"dataframe\">\n",
              "  <thead>\n",
              "    <tr style=\"text-align: right;\">\n",
              "      <th></th>\n",
              "      <th>Sl</th>\n",
              "      <th>Sw</th>\n",
              "      <th>Pl</th>\n",
              "      <th>Pw</th>\n",
              "      <th>Tr</th>\n",
              "      <th>Name</th>\n",
              "    </tr>\n",
              "  </thead>\n",
              "  <tbody>\n",
              "    <tr>\n",
              "      <th>140</th>\n",
              "      <td>6.7</td>\n",
              "      <td>3.1</td>\n",
              "      <td>5.6</td>\n",
              "      <td>2.4</td>\n",
              "      <td>2</td>\n",
              "      <td>virginica</td>\n",
              "    </tr>\n",
              "    <tr>\n",
              "      <th>141</th>\n",
              "      <td>6.9</td>\n",
              "      <td>3.1</td>\n",
              "      <td>5.1</td>\n",
              "      <td>2.3</td>\n",
              "      <td>2</td>\n",
              "      <td>virginica</td>\n",
              "    </tr>\n",
              "    <tr>\n",
              "      <th>142</th>\n",
              "      <td>5.8</td>\n",
              "      <td>2.7</td>\n",
              "      <td>5.1</td>\n",
              "      <td>1.9</td>\n",
              "      <td>2</td>\n",
              "      <td>virginica</td>\n",
              "    </tr>\n",
              "    <tr>\n",
              "      <th>143</th>\n",
              "      <td>6.8</td>\n",
              "      <td>3.2</td>\n",
              "      <td>5.9</td>\n",
              "      <td>2.3</td>\n",
              "      <td>2</td>\n",
              "      <td>virginica</td>\n",
              "    </tr>\n",
              "    <tr>\n",
              "      <th>144</th>\n",
              "      <td>6.7</td>\n",
              "      <td>3.3</td>\n",
              "      <td>5.7</td>\n",
              "      <td>2.5</td>\n",
              "      <td>2</td>\n",
              "      <td>virginica</td>\n",
              "    </tr>\n",
              "    <tr>\n",
              "      <th>145</th>\n",
              "      <td>6.7</td>\n",
              "      <td>3.0</td>\n",
              "      <td>5.2</td>\n",
              "      <td>2.3</td>\n",
              "      <td>2</td>\n",
              "      <td>virginica</td>\n",
              "    </tr>\n",
              "    <tr>\n",
              "      <th>146</th>\n",
              "      <td>6.3</td>\n",
              "      <td>2.5</td>\n",
              "      <td>5.0</td>\n",
              "      <td>1.9</td>\n",
              "      <td>2</td>\n",
              "      <td>virginica</td>\n",
              "    </tr>\n",
              "    <tr>\n",
              "      <th>147</th>\n",
              "      <td>6.5</td>\n",
              "      <td>3.0</td>\n",
              "      <td>5.2</td>\n",
              "      <td>2.0</td>\n",
              "      <td>2</td>\n",
              "      <td>virginica</td>\n",
              "    </tr>\n",
              "    <tr>\n",
              "      <th>148</th>\n",
              "      <td>6.2</td>\n",
              "      <td>3.4</td>\n",
              "      <td>5.4</td>\n",
              "      <td>2.3</td>\n",
              "      <td>2</td>\n",
              "      <td>virginica</td>\n",
              "    </tr>\n",
              "    <tr>\n",
              "      <th>149</th>\n",
              "      <td>5.9</td>\n",
              "      <td>3.0</td>\n",
              "      <td>5.1</td>\n",
              "      <td>1.8</td>\n",
              "      <td>2</td>\n",
              "      <td>virginica</td>\n",
              "    </tr>\n",
              "  </tbody>\n",
              "</table>\n",
              "</div>"
            ],
            "text/plain": [
              "      Sl   Sw   Pl   Pw  Tr       Name\n",
              "140  6.7  3.1  5.6  2.4   2  virginica\n",
              "141  6.9  3.1  5.1  2.3   2  virginica\n",
              "142  5.8  2.7  5.1  1.9   2  virginica\n",
              "143  6.8  3.2  5.9  2.3   2  virginica\n",
              "144  6.7  3.3  5.7  2.5   2  virginica\n",
              "145  6.7  3.0  5.2  2.3   2  virginica\n",
              "146  6.3  2.5  5.0  1.9   2  virginica\n",
              "147  6.5  3.0  5.2  2.0   2  virginica\n",
              "148  6.2  3.4  5.4  2.3   2  virginica\n",
              "149  5.9  3.0  5.1  1.8   2  virginica"
            ]
          },
          "metadata": {
            "tags": []
          },
          "execution_count": 18
        }
      ]
    },
    {
      "cell_type": "code",
      "metadata": {
        "id": "M1KvN-uVlXd5",
        "colab_type": "code",
        "colab": {}
      },
      "source": [
        "points = df.iloc[140:,:]"
      ],
      "execution_count": null,
      "outputs": []
    },
    {
      "cell_type": "code",
      "metadata": {
        "id": "SrTJn4u1CbmX",
        "colab_type": "code",
        "colab": {
          "base_uri": "https://localhost:8080/",
          "height": 355
        },
        "outputId": "6b7e8cb8-cab5-4919-aa6d-4d858e7f2c50"
      },
      "source": [
        "points"
      ],
      "execution_count": null,
      "outputs": [
        {
          "output_type": "execute_result",
          "data": {
            "text/html": [
              "<div>\n",
              "<style scoped>\n",
              "    .dataframe tbody tr th:only-of-type {\n",
              "        vertical-align: middle;\n",
              "    }\n",
              "\n",
              "    .dataframe tbody tr th {\n",
              "        vertical-align: top;\n",
              "    }\n",
              "\n",
              "    .dataframe thead th {\n",
              "        text-align: right;\n",
              "    }\n",
              "</style>\n",
              "<table border=\"1\" class=\"dataframe\">\n",
              "  <thead>\n",
              "    <tr style=\"text-align: right;\">\n",
              "      <th></th>\n",
              "      <th>Sl</th>\n",
              "      <th>Sw</th>\n",
              "      <th>Pl</th>\n",
              "      <th>Pw</th>\n",
              "    </tr>\n",
              "  </thead>\n",
              "  <tbody>\n",
              "    <tr>\n",
              "      <th>140</th>\n",
              "      <td>6.7</td>\n",
              "      <td>3.1</td>\n",
              "      <td>5.6</td>\n",
              "      <td>2.4</td>\n",
              "    </tr>\n",
              "    <tr>\n",
              "      <th>141</th>\n",
              "      <td>6.9</td>\n",
              "      <td>3.1</td>\n",
              "      <td>5.1</td>\n",
              "      <td>2.3</td>\n",
              "    </tr>\n",
              "    <tr>\n",
              "      <th>142</th>\n",
              "      <td>5.8</td>\n",
              "      <td>2.7</td>\n",
              "      <td>5.1</td>\n",
              "      <td>1.9</td>\n",
              "    </tr>\n",
              "    <tr>\n",
              "      <th>143</th>\n",
              "      <td>6.8</td>\n",
              "      <td>3.2</td>\n",
              "      <td>5.9</td>\n",
              "      <td>2.3</td>\n",
              "    </tr>\n",
              "    <tr>\n",
              "      <th>144</th>\n",
              "      <td>6.7</td>\n",
              "      <td>3.3</td>\n",
              "      <td>5.7</td>\n",
              "      <td>2.5</td>\n",
              "    </tr>\n",
              "    <tr>\n",
              "      <th>145</th>\n",
              "      <td>6.7</td>\n",
              "      <td>3.0</td>\n",
              "      <td>5.2</td>\n",
              "      <td>2.3</td>\n",
              "    </tr>\n",
              "    <tr>\n",
              "      <th>146</th>\n",
              "      <td>6.3</td>\n",
              "      <td>2.5</td>\n",
              "      <td>5.0</td>\n",
              "      <td>1.9</td>\n",
              "    </tr>\n",
              "    <tr>\n",
              "      <th>147</th>\n",
              "      <td>6.5</td>\n",
              "      <td>3.0</td>\n",
              "      <td>5.2</td>\n",
              "      <td>2.0</td>\n",
              "    </tr>\n",
              "    <tr>\n",
              "      <th>148</th>\n",
              "      <td>6.2</td>\n",
              "      <td>3.4</td>\n",
              "      <td>5.4</td>\n",
              "      <td>2.3</td>\n",
              "    </tr>\n",
              "    <tr>\n",
              "      <th>149</th>\n",
              "      <td>5.9</td>\n",
              "      <td>3.0</td>\n",
              "      <td>5.1</td>\n",
              "      <td>1.8</td>\n",
              "    </tr>\n",
              "  </tbody>\n",
              "</table>\n",
              "</div>"
            ],
            "text/plain": [
              "      Sl   Sw   Pl   Pw\n",
              "140  6.7  3.1  5.6  2.4\n",
              "141  6.9  3.1  5.1  2.3\n",
              "142  5.8  2.7  5.1  1.9\n",
              "143  6.8  3.2  5.9  2.3\n",
              "144  6.7  3.3  5.7  2.5\n",
              "145  6.7  3.0  5.2  2.3\n",
              "146  6.3  2.5  5.0  1.9\n",
              "147  6.5  3.0  5.2  2.0\n",
              "148  6.2  3.4  5.4  2.3\n",
              "149  5.9  3.0  5.1  1.8"
            ]
          },
          "metadata": {
            "tags": []
          },
          "execution_count": 20
        }
      ]
    },
    {
      "cell_type": "code",
      "metadata": {
        "id": "LrrzhZvKq68s",
        "colab_type": "code",
        "colab": {}
      },
      "source": [
        " a= list((zip(data['data'][140:],data['target'][140:])))"
      ],
      "execution_count": null,
      "outputs": []
    },
    {
      "cell_type": "code",
      "metadata": {
        "id": "ZA2YLvWKrGIE",
        "colab_type": "code",
        "colab": {
          "base_uri": "https://localhost:8080/",
          "height": 191
        },
        "outputId": "26277a22-fdd3-46c8-d28b-1d59f09a2037"
      },
      "source": [
        "a"
      ],
      "execution_count": null,
      "outputs": [
        {
          "output_type": "execute_result",
          "data": {
            "text/plain": [
              "[(array([6.7, 3.1, 5.6, 2.4]), 2),\n",
              " (array([6.9, 3.1, 5.1, 2.3]), 2),\n",
              " (array([5.8, 2.7, 5.1, 1.9]), 2),\n",
              " (array([6.8, 3.2, 5.9, 2.3]), 2),\n",
              " (array([6.7, 3.3, 5.7, 2.5]), 2),\n",
              " (array([6.7, 3. , 5.2, 2.3]), 2),\n",
              " (array([6.3, 2.5, 5. , 1.9]), 2),\n",
              " (array([6.5, 3. , 5.2, 2. ]), 2),\n",
              " (array([6.2, 3.4, 5.4, 2.3]), 2),\n",
              " (array([5.9, 3. , 5.1, 1.8]), 2)]"
            ]
          },
          "metadata": {
            "tags": []
          },
          "execution_count": 22
        }
      ]
    },
    {
      "cell_type": "code",
      "metadata": {
        "id": "FaXe_pqwrRxM",
        "colab_type": "code",
        "colab": {}
      },
      "source": [
        "predicted = Model_fit.predict(points)"
      ],
      "execution_count": null,
      "outputs": []
    },
    {
      "cell_type": "code",
      "metadata": {
        "id": "bpKHBAgVr3Se",
        "colab_type": "code",
        "colab": {
          "base_uri": "https://localhost:8080/",
          "height": 35
        },
        "outputId": "302b9950-4f48-473c-dcb5-98e81050cc8f"
      },
      "source": [
        "predicted"
      ],
      "execution_count": null,
      "outputs": [
        {
          "output_type": "execute_result",
          "data": {
            "text/plain": [
              "array([2, 2, 0, 2, 2, 2, 0, 2, 2, 0], dtype=int32)"
            ]
          },
          "metadata": {
            "tags": []
          },
          "execution_count": 24
        }
      ]
    },
    {
      "cell_type": "code",
      "metadata": {
        "id": "PuJ-yPakCyEB",
        "colab_type": "code",
        "colab": {
          "base_uri": "https://localhost:8080/",
          "height": 208
        },
        "outputId": "c26d0ffb-82b1-46b0-95bd-b9c64abcd7d6"
      },
      "source": [
        "points.loc[:,'Sl']"
      ],
      "execution_count": null,
      "outputs": [
        {
          "output_type": "execute_result",
          "data": {
            "text/plain": [
              "140    6.7\n",
              "141    6.9\n",
              "142    5.8\n",
              "143    6.8\n",
              "144    6.7\n",
              "145    6.7\n",
              "146    6.3\n",
              "147    6.5\n",
              "148    6.2\n",
              "149    5.9\n",
              "Name: Sl, dtype: float64"
            ]
          },
          "metadata": {
            "tags": []
          },
          "execution_count": 25
        }
      ]
    },
    {
      "cell_type": "code",
      "metadata": {
        "id": "WcQIWS8-r5cb",
        "colab_type": "code",
        "colab": {
          "base_uri": "https://localhost:8080/",
          "height": 283
        },
        "outputId": "73f834a5-2ecd-4b82-aac7-2d4442293e28"
      },
      "source": [
        "plt.scatter(points.loc[:,'Sl'],points.loc[:,'Sw'],c=predicted,alpha=0.5)\n",
        "plt.scatter(centroids[:,0],centroids[:,1],marker='D',s=50)"
      ],
      "execution_count": null,
      "outputs": [
        {
          "output_type": "execute_result",
          "data": {
            "text/plain": [
              "<matplotlib.collections.PathCollection at 0x7f497d92a710>"
            ]
          },
          "metadata": {
            "tags": []
          },
          "execution_count": 26
        },
        {
          "output_type": "display_data",
          "data": {
            "image/png": "[encoded data removed]",
            "text/plain": [
              "<Figure size 432x288 with 1 Axes>"
            ]
          },
          "metadata": {
            "tags": [],
            "needs_background": "light"
          }
        }
      ]
    },
    {
      "cell_type": "code",
      "metadata": {
        "id": "jegR375CsTf9",
        "colab_type": "code",
        "colab": {
          "base_uri": "https://localhost:8080/",
          "height": 415
        },
        "outputId": "7dea381b-3ccd-496e-a913-8d0306cec030"
      },
      "source": [
        "datum"
      ],
      "execution_count": null,
      "outputs": [
        {
          "output_type": "execute_result",
          "data": {
            "text/html": [
              "<div>\n",
              "<style scoped>\n",
              "    .dataframe tbody tr th:only-of-type {\n",
              "        vertical-align: middle;\n",
              "    }\n",
              "\n",
              "    .dataframe tbody tr th {\n",
              "        vertical-align: top;\n",
              "    }\n",
              "\n",
              "    .dataframe thead th {\n",
              "        text-align: right;\n",
              "    }\n",
              "</style>\n",
              "<table border=\"1\" class=\"dataframe\">\n",
              "  <thead>\n",
              "    <tr style=\"text-align: right;\">\n",
              "      <th></th>\n",
              "      <th>Sl</th>\n",
              "      <th>Sw</th>\n",
              "      <th>Pl</th>\n",
              "      <th>Pw</th>\n",
              "      <th>Tr</th>\n",
              "      <th>Name</th>\n",
              "    </tr>\n",
              "  </thead>\n",
              "  <tbody>\n",
              "    <tr>\n",
              "      <th>0</th>\n",
              "      <td>5.1</td>\n",
              "      <td>3.5</td>\n",
              "      <td>1.4</td>\n",
              "      <td>0.2</td>\n",
              "      <td>0</td>\n",
              "      <td>setosa</td>\n",
              "    </tr>\n",
              "    <tr>\n",
              "      <th>1</th>\n",
              "      <td>4.9</td>\n",
              "      <td>3.0</td>\n",
              "      <td>1.4</td>\n",
              "      <td>0.2</td>\n",
              "      <td>0</td>\n",
              "      <td>setosa</td>\n",
              "    </tr>\n",
              "    <tr>\n",
              "      <th>2</th>\n",
              "      <td>4.7</td>\n",
              "      <td>3.2</td>\n",
              "      <td>1.3</td>\n",
              "      <td>0.2</td>\n",
              "      <td>0</td>\n",
              "      <td>setosa</td>\n",
              "    </tr>\n",
              "    <tr>\n",
              "      <th>3</th>\n",
              "      <td>4.6</td>\n",
              "      <td>3.1</td>\n",
              "      <td>1.5</td>\n",
              "      <td>0.2</td>\n",
              "      <td>0</td>\n",
              "      <td>setosa</td>\n",
              "    </tr>\n",
              "    <tr>\n",
              "      <th>4</th>\n",
              "      <td>5.0</td>\n",
              "      <td>3.6</td>\n",
              "      <td>1.4</td>\n",
              "      <td>0.2</td>\n",
              "      <td>0</td>\n",
              "      <td>setosa</td>\n",
              "    </tr>\n",
              "    <tr>\n",
              "      <th>...</th>\n",
              "      <td>...</td>\n",
              "      <td>...</td>\n",
              "      <td>...</td>\n",
              "      <td>...</td>\n",
              "      <td>...</td>\n",
              "      <td>...</td>\n",
              "    </tr>\n",
              "    <tr>\n",
              "      <th>145</th>\n",
              "      <td>6.7</td>\n",
              "      <td>3.0</td>\n",
              "      <td>5.2</td>\n",
              "      <td>2.3</td>\n",
              "      <td>2</td>\n",
              "      <td>virginica</td>\n",
              "    </tr>\n",
              "    <tr>\n",
              "      <th>146</th>\n",
              "      <td>6.3</td>\n",
              "      <td>2.5</td>\n",
              "      <td>5.0</td>\n",
              "      <td>1.9</td>\n",
              "      <td>2</td>\n",
              "      <td>virginica</td>\n",
              "    </tr>\n",
              "    <tr>\n",
              "      <th>147</th>\n",
              "      <td>6.5</td>\n",
              "      <td>3.0</td>\n",
              "      <td>5.2</td>\n",
              "      <td>2.0</td>\n",
              "      <td>2</td>\n",
              "      <td>virginica</td>\n",
              "    </tr>\n",
              "    <tr>\n",
              "      <th>148</th>\n",
              "      <td>6.2</td>\n",
              "      <td>3.4</td>\n",
              "      <td>5.4</td>\n",
              "      <td>2.3</td>\n",
              "      <td>2</td>\n",
              "      <td>virginica</td>\n",
              "    </tr>\n",
              "    <tr>\n",
              "      <th>149</th>\n",
              "      <td>5.9</td>\n",
              "      <td>3.0</td>\n",
              "      <td>5.1</td>\n",
              "      <td>1.8</td>\n",
              "      <td>2</td>\n",
              "      <td>virginica</td>\n",
              "    </tr>\n",
              "  </tbody>\n",
              "</table>\n",
              "<p>150 rows × 6 columns</p>\n",
              "</div>"
            ],
            "text/plain": [
              "      Sl   Sw   Pl   Pw  Tr       Name\n",
              "0    5.1  3.5  1.4  0.2   0     setosa\n",
              "1    4.9  3.0  1.4  0.2   0     setosa\n",
              "2    4.7  3.2  1.3  0.2   0     setosa\n",
              "3    4.6  3.1  1.5  0.2   0     setosa\n",
              "4    5.0  3.6  1.4  0.2   0     setosa\n",
              "..   ...  ...  ...  ...  ..        ...\n",
              "145  6.7  3.0  5.2  2.3   2  virginica\n",
              "146  6.3  2.5  5.0  1.9   2  virginica\n",
              "147  6.5  3.0  5.2  2.0   2  virginica\n",
              "148  6.2  3.4  5.4  2.3   2  virginica\n",
              "149  5.9  3.0  5.1  1.8   2  virginica\n",
              "\n",
              "[150 rows x 6 columns]"
            ]
          },
          "metadata": {
            "tags": []
          },
          "execution_count": 27
        }
      ]
    },
    {
      "cell_type": "code",
      "metadata": {
        "id": "JvHwmv32uD0K",
        "colab_type": "code",
        "colab": {
          "base_uri": "https://localhost:8080/",
          "height": 171
        },
        "outputId": "7c77c35b-20dd-4aba-cbfa-d142630739bb"
      },
      "source": [
        "labels = Model_fit.labels_\n",
        "labels = pd.Series(labels,name='labels')\n",
        "pd.crosstab(labels, datum['Name'])"
      ],
      "execution_count": null,
      "outputs": [
        {
          "output_type": "execute_result",
          "data": {
            "text/html": [
              "<div>\n",
              "<style scoped>\n",
              "    .dataframe tbody tr th:only-of-type {\n",
              "        vertical-align: middle;\n",
              "    }\n",
              "\n",
              "    .dataframe tbody tr th {\n",
              "        vertical-align: top;\n",
              "    }\n",
              "\n",
              "    .dataframe thead th {\n",
              "        text-align: right;\n",
              "    }\n",
              "</style>\n",
              "<table border=\"1\" class=\"dataframe\">\n",
              "  <thead>\n",
              "    <tr style=\"text-align: right;\">\n",
              "      <th>Name</th>\n",
              "      <th>setosa</th>\n",
              "      <th>versicolor</th>\n",
              "      <th>virginica</th>\n",
              "    </tr>\n",
              "    <tr>\n",
              "      <th>labels</th>\n",
              "      <th></th>\n",
              "      <th></th>\n",
              "      <th></th>\n",
              "    </tr>\n",
              "  </thead>\n",
              "  <tbody>\n",
              "    <tr>\n",
              "      <th>0</th>\n",
              "      <td>0</td>\n",
              "      <td>48</td>\n",
              "      <td>14</td>\n",
              "    </tr>\n",
              "    <tr>\n",
              "      <th>1</th>\n",
              "      <td>50</td>\n",
              "      <td>0</td>\n",
              "      <td>0</td>\n",
              "    </tr>\n",
              "    <tr>\n",
              "      <th>2</th>\n",
              "      <td>0</td>\n",
              "      <td>2</td>\n",
              "      <td>36</td>\n",
              "    </tr>\n",
              "  </tbody>\n",
              "</table>\n",
              "</div>"
            ],
            "text/plain": [
              "Name    setosa  versicolor  virginica\n",
              "labels                               \n",
              "0            0          48         14\n",
              "1           50           0          0\n",
              "2            0           2         36"
            ]
          },
          "metadata": {
            "tags": []
          },
          "execution_count": 28
        }
      ]
    },
    {
      "cell_type": "code",
      "metadata": {
        "id": "_Gt2Zf0N_15I",
        "colab_type": "code",
        "colab": {
          "base_uri": "https://localhost:8080/",
          "height": 415
        },
        "outputId": "547a49d6-6153-47c4-9950-18490642c396"
      },
      "source": [
        "\n",
        "datum"
      ],
      "execution_count": null,
      "outputs": [
        {
          "output_type": "execute_result",
          "data": {
            "text/html": [
              "<div>\n",
              "<style scoped>\n",
              "    .dataframe tbody tr th:only-of-type {\n",
              "        vertical-align: middle;\n",
              "    }\n",
              "\n",
              "    .dataframe tbody tr th {\n",
              "        vertical-align: top;\n",
              "    }\n",
              "\n",
              "    .dataframe thead th {\n",
              "        text-align: right;\n",
              "    }\n",
              "</style>\n",
              "<table border=\"1\" class=\"dataframe\">\n",
              "  <thead>\n",
              "    <tr style=\"text-align: right;\">\n",
              "      <th></th>\n",
              "      <th>Sl</th>\n",
              "      <th>Sw</th>\n",
              "      <th>Pl</th>\n",
              "      <th>Pw</th>\n",
              "      <th>Tr</th>\n",
              "      <th>Name</th>\n",
              "    </tr>\n",
              "  </thead>\n",
              "  <tbody>\n",
              "    <tr>\n",
              "      <th>0</th>\n",
              "      <td>5.1</td>\n",
              "      <td>3.5</td>\n",
              "      <td>1.4</td>\n",
              "      <td>0.2</td>\n",
              "      <td>0</td>\n",
              "      <td>setosa</td>\n",
              "    </tr>\n",
              "    <tr>\n",
              "      <th>1</th>\n",
              "      <td>4.9</td>\n",
              "      <td>3.0</td>\n",
              "      <td>1.4</td>\n",
              "      <td>0.2</td>\n",
              "      <td>0</td>\n",
              "      <td>setosa</td>\n",
              "    </tr>\n",
              "    <tr>\n",
              "      <th>2</th>\n",
              "      <td>4.7</td>\n",
              "      <td>3.2</td>\n",
              "      <td>1.3</td>\n",
              "      <td>0.2</td>\n",
              "      <td>0</td>\n",
              "      <td>setosa</td>\n",
              "    </tr>\n",
              "    <tr>\n",
              "      <th>3</th>\n",
              "      <td>4.6</td>\n",
              "      <td>3.1</td>\n",
              "      <td>1.5</td>\n",
              "      <td>0.2</td>\n",
              "      <td>0</td>\n",
              "      <td>setosa</td>\n",
              "    </tr>\n",
              "    <tr>\n",
              "      <th>4</th>\n",
              "      <td>5.0</td>\n",
              "      <td>3.6</td>\n",
              "      <td>1.4</td>\n",
              "      <td>0.2</td>\n",
              "      <td>0</td>\n",
              "      <td>setosa</td>\n",
              "    </tr>\n",
              "    <tr>\n",
              "      <th>...</th>\n",
              "      <td>...</td>\n",
              "      <td>...</td>\n",
              "      <td>...</td>\n",
              "      <td>...</td>\n",
              "      <td>...</td>\n",
              "      <td>...</td>\n",
              "    </tr>\n",
              "    <tr>\n",
              "      <th>145</th>\n",
              "      <td>6.7</td>\n",
              "      <td>3.0</td>\n",
              "      <td>5.2</td>\n",
              "      <td>2.3</td>\n",
              "      <td>2</td>\n",
              "      <td>virginica</td>\n",
              "    </tr>\n",
              "    <tr>\n",
              "      <th>146</th>\n",
              "      <td>6.3</td>\n",
              "      <td>2.5</td>\n",
              "      <td>5.0</td>\n",
              "      <td>1.9</td>\n",
              "      <td>2</td>\n",
              "      <td>virginica</td>\n",
              "    </tr>\n",
              "    <tr>\n",
              "      <th>147</th>\n",
              "      <td>6.5</td>\n",
              "      <td>3.0</td>\n",
              "      <td>5.2</td>\n",
              "      <td>2.0</td>\n",
              "      <td>2</td>\n",
              "      <td>virginica</td>\n",
              "    </tr>\n",
              "    <tr>\n",
              "      <th>148</th>\n",
              "      <td>6.2</td>\n",
              "      <td>3.4</td>\n",
              "      <td>5.4</td>\n",
              "      <td>2.3</td>\n",
              "      <td>2</td>\n",
              "      <td>virginica</td>\n",
              "    </tr>\n",
              "    <tr>\n",
              "      <th>149</th>\n",
              "      <td>5.9</td>\n",
              "      <td>3.0</td>\n",
              "      <td>5.1</td>\n",
              "      <td>1.8</td>\n",
              "      <td>2</td>\n",
              "      <td>virginica</td>\n",
              "    </tr>\n",
              "  </tbody>\n",
              "</table>\n",
              "<p>150 rows × 6 columns</p>\n",
              "</div>"
            ],
            "text/plain": [
              "      Sl   Sw   Pl   Pw  Tr       Name\n",
              "0    5.1  3.5  1.4  0.2   0     setosa\n",
              "1    4.9  3.0  1.4  0.2   0     setosa\n",
              "2    4.7  3.2  1.3  0.2   0     setosa\n",
              "3    4.6  3.1  1.5  0.2   0     setosa\n",
              "4    5.0  3.6  1.4  0.2   0     setosa\n",
              "..   ...  ...  ...  ...  ..        ...\n",
              "145  6.7  3.0  5.2  2.3   2  virginica\n",
              "146  6.3  2.5  5.0  1.9   2  virginica\n",
              "147  6.5  3.0  5.2  2.0   2  virginica\n",
              "148  6.2  3.4  5.4  2.3   2  virginica\n",
              "149  5.9  3.0  5.1  1.8   2  virginica\n",
              "\n",
              "[150 rows x 6 columns]"
            ]
          },
          "metadata": {
            "tags": []
          },
          "execution_count": 29
        }
      ]
    },
    {
      "cell_type": "code",
      "metadata": {
        "id": "DfZiNyjFqkyU",
        "colab_type": "code",
        "colab": {}
      },
      "source": [
        ""
      ],
      "execution_count": null,
      "outputs": []
    },
    {
      "cell_type": "code",
      "metadata": {
        "id": "ve4XcNF8JDTn",
        "colab_type": "code",
        "colab": {}
      },
      "source": [
        ""
      ],
      "execution_count": null,
      "outputs": []
    },
    {
      "cell_type": "code",
      "metadata": {
        "id": "p-jVx-bWJFwi",
        "colab_type": "code",
        "colab": {}
      },
      "source": [
        ""
      ],
      "execution_count": null,
      "outputs": []
    }
  ]
}